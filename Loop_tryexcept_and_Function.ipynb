{
 "cells": [
  {
   "cell_type": "markdown",
   "id": "eec9f536",
   "metadata": {},
   "source": [
    "# Introduction Loop\n",
    "kalau di hampir semua bahasa pemrograman yang lain penulisannya sama seperti komponen loop secara Algoritma pada powerpoint, namun berbeda dengan python kita tidak bisa melakukannya seperti tersebut, pada python ketika ingin melakukan looping penulisan syntaxnya menggunakan ***range()***"
   ]
  },
  {
   "cell_type": "code",
   "execution_count": 1,
   "id": "bffa1ce0",
   "metadata": {},
   "outputs": [
    {
     "data": {
      "text/plain": [
       "range(0, 6)"
      ]
     },
     "execution_count": 1,
     "metadata": {},
     "output_type": "execute_result"
    }
   ],
   "source": [
    "# fungsi Range pada Python\n",
    "range(6) # tidak ada outputnya hanya range 0-6"
   ]
  },
  {
   "cell_type": "code",
   "execution_count": 2,
   "id": "c6081809",
   "metadata": {},
   "outputs": [
    {
     "data": {
      "text/plain": [
       "[0, 1, 2, 3, 4, 5]"
      ]
     },
     "execution_count": 2,
     "metadata": {},
     "output_type": "execute_result"
    }
   ],
   "source": [
    "# range pada python merupakan generator pada kasus ini, generator tsb menghasilkan 6 bilangan\n",
    "list(range(6))"
   ]
  },
  {
   "cell_type": "code",
   "execution_count": 3,
   "id": "a70d475b",
   "metadata": {
    "scrolled": true
   },
   "outputs": [
    {
     "name": "stdout",
     "output_type": "stream",
     "text": [
      "0\n",
      "1\n",
      "2\n",
      "3\n",
      "4\n",
      "5\n"
     ]
    }
   ],
   "source": [
    "# outputkan satu persatu\n",
    "for i in range(6):\n",
    "    print(i) #akan menghasilkan output lalu ganti baris\n",
    "    #print(i, end=' ') # jika tidak mau ganti baris "
   ]
  },
  {
   "cell_type": "markdown",
   "id": "1731d0cf",
   "metadata": {},
   "source": [
    "Fungsi range sytnax umumnya ketika kita hanya mengisi satu angka seperti ***list(range(6))*** hanya manghasilkan dari 0 sampai 6-1."
   ]
  },
  {
   "cell_type": "code",
   "execution_count": 4,
   "id": "c826a92f",
   "metadata": {
    "scrolled": true
   },
   "outputs": [
    {
     "data": {
      "text/plain": [
       "[2, 4, 6, 8]"
      ]
     },
     "execution_count": 4,
     "metadata": {},
     "output_type": "execute_result"
    }
   ],
   "source": [
    "# range pada python \n",
    "# Bentuk umum sytax loop pada python range(start, end, step)\n",
    "list(range(2,10,2)) #jika menelaah code sebelumnya list(range(6))  maka 6 tersebut hanyalah = 'end'\n",
    "# 10 pada code diatas tidak di outputkan dikarnakan python mengawali index defaultnya adalah 0"
   ]
  },
  {
   "cell_type": "code",
   "execution_count": 5,
   "id": "6191fe2f",
   "metadata": {},
   "outputs": [
    {
     "name": "stdout",
     "output_type": "stream",
     "text": [
      "Ini adalah iterasi ke- 0\n",
      "Ini adalah iterasi ke- 1\n",
      "Ini adalah iterasi ke- 2\n",
      "Ini adalah iterasi ke- 3\n",
      "Ini adalah iterasi ke- 4\n"
     ]
    }
   ],
   "source": [
    "# Contoh penggunaan 'for' loop untuk mengulangi sebanyak 5 kali:\n",
    "for i in range(5):\n",
    "    print(\"Ini adalah iterasi ke-\", i)"
   ]
  },
  {
   "cell_type": "code",
   "execution_count": 6,
   "id": "cf4f5171",
   "metadata": {},
   "outputs": [
    {
     "name": "stdout",
     "output_type": "stream",
     "text": [
      "Ini adalah iterasi ke- 3\n",
      "Ini adalah iterasi ke- 4\n",
      "Ini adalah iterasi ke- 5\n",
      "Ini adalah iterasi ke- 6\n",
      "Ini adalah iterasi ke- 7\n",
      "Ini adalah iterasi ke- 8\n",
      "Ini adalah iterasi ke- 9\n"
     ]
    }
   ],
   "source": [
    "# Menghasilkan deret angka dari 3 hingga 9 (eksklusif):\n",
    "for i in range(3, 10):\n",
    "    print(\"Ini adalah iterasi ke-\", i)"
   ]
  },
  {
   "cell_type": "code",
   "execution_count": 7,
   "id": "dc5aa8c2",
   "metadata": {
    "scrolled": false
   },
   "outputs": [
    {
     "name": "stdout",
     "output_type": "stream",
     "text": [
      "Ini adalah iterasi ke- 1\n",
      "Ini adalah iterasi ke- 3\n",
      "Ini adalah iterasi ke- 5\n",
      "Ini adalah iterasi ke- 7\n",
      "Ini adalah iterasi ke- 9\n",
      "Ini adalah iterasi ke- 11\n",
      "Ini adalah iterasi ke- 13\n",
      "Ini adalah iterasi ke- 15\n",
      "Ini adalah iterasi ke- 17\n",
      "Ini adalah iterasi ke- 19\n"
     ]
    }
   ],
   "source": [
    "# Menghasilkan deret angka dari 1 hingga 20 (eksklusif) dengan jarak 2:\n",
    "for i in range(1, 20, 2):\n",
    "    print(\"Ini adalah iterasi ke-\", i)"
   ]
  },
  {
   "cell_type": "markdown",
   "id": "0d618dc6",
   "metadata": {},
   "source": [
    "## Komponen loop pada ppt di aplikasikan pada python"
   ]
  },
  {
   "cell_type": "code",
   "execution_count": 8,
   "id": "a7b3e70b",
   "metadata": {},
   "outputs": [
    {
     "data": {
      "text/plain": [
       "5050"
      ]
     },
     "execution_count": 8,
     "metadata": {},
     "output_type": "execute_result"
    }
   ],
   "source": [
    "SUM = 0\n",
    "for i in range(1,101):\n",
    "    SUM = SUM +i #modifikasi +=\n",
    "SUM"
   ]
  },
  {
   "cell_type": "markdown",
   "id": "e024e8b8",
   "metadata": {},
   "source": [
    "- Kode diatas digunakan untuk menghitung jumlah (sum) dari angka 1 hingga 100 (inklusif) menggunakan 'for' loop dan fungsi range().\n",
    "\n",
    "- Variabel SUM diinisialisasi dengan nilai 0. Ini akan digunakan untuk menyimpan jumlah total dari angka 1 hingga 100.\n",
    "\n",
    "- 'for' loop menggunakan fungsi range() dengan argumen start = 1 (nilai awal), stop = 101 (nilai akhir, eksklusif). Dengan demikian, loop akan berjalan dari angka 1 hingga 100.\n",
    "\n",
    "- Pada setiap iterasi, nilai i (angka saat ini) ditambahkan ke variabel SUM. Alternatif sintaks dengan menggunakan operator += adalah SUM += i, yang berarti sama dengan SUM = SUM + i.\n",
    "\n",
    "- Setelah 'for' loop selesai, variabel SUM akan berisi jumlah total dari angka 1 hingga 100. Dalam hal ini, SUM akan dicetak sebagai output karena merupakan variabel terakhir dalam kode.\n",
    "\n",
    "\n",
    "\n",
    "SUM = 0<br>\n",
    "for i in range(1, 101):<br>\n",
    "    SUM = SUM + i<br>\n",
    "\n",
    "Kode diatas menjumlahkan angka dari 1 hingga 100 secara berurutan. Jadi, pada setiap iterasi, kita menambahkan angka yang sesuai ke dalam variabel SUM. Berikut adalah ilustrasi dari apa yang terjadi pada setiap iterasi: :\n",
    "\n",
    "Iterasi 1: SUM = 0 + 1 = 1<br>\n",
    "Iterasi 2: SUM = 1 + 2 = 3<br>\n",
    "Iterasi 3: SUM = 3 + 3 = 6<br>\n",
    "...<br>\n",
    "Iterasi 100: SUM = 4950 + 100 = 5050\n",
    "\n",
    "dalam hal ini, kita menghitung jumlah total angka dari 1 hingga 100 (inklusif), dan hasilnya adalah 5050. Kode ini bukan mencetak angka 1 hingga 100, tetapi menghitung jumlah dari angka-angka tersebut."
   ]
  },
  {
   "cell_type": "code",
   "execution_count": 9,
   "id": "707c3614",
   "metadata": {
    "scrolled": true
   },
   "outputs": [
    {
     "data": {
      "text/plain": [
       "5050"
      ]
     },
     "execution_count": 9,
     "metadata": {},
     "output_type": "execute_result"
    }
   ],
   "source": [
    "# code diatas sama hal nya dengan\n",
    "sum(range(1,101))"
   ]
  },
  {
   "cell_type": "markdown",
   "id": "6a685c39",
   "metadata": {},
   "source": [
    "hal ini lebih efisien secara penulisan code karna pada beberapa literatur menyebutkan flat lebih baik dibandingkan neasted, maka dari itu cobalah untuk menuliskan code lebih efisien \n",
    "\n",
    "Refrence : <br> \n",
    "https://www.datacamp.com/blog/lessons-from-the-zen-of-python"
   ]
  },
  {
   "cell_type": "markdown",
   "id": "8f041a0a",
   "metadata": {},
   "source": [
    "## Hal yang harus di hindari saat melakukan loop\n",
    "- index loop tidak boleh diletakan didalam loop bodynya disebelah kiri samadengan"
   ]
  },
  {
   "cell_type": "code",
   "execution_count": 10,
   "id": "27ac150a",
   "metadata": {},
   "outputs": [
    {
     "name": "stdout",
     "output_type": "stream",
     "text": [
      "10\n"
     ]
    }
   ],
   "source": [
    "b =  0\n",
    "# index i harus di letakan di sebelah kanan samadengan\n",
    "for i in range(5):\n",
    "    b = b + i\n",
    "print(b)"
   ]
  },
  {
   "cell_type": "markdown",
   "id": "af13499b",
   "metadata": {},
   "source": [
    "- Kode diatas menggunakan 'for' loop untuk menjumlahkan angka dari 0 hingga 4. Fungsi range(5) menghasilkan angka dari 0 hingga 4 (eksklusif 5). Berikut adalah ilustrasi dari apa yang terjadi pada setiap iterasi:\n",
    "\n",
    "Iterasi 1: b = 0 + 0 = 0<br>\n",
    "Iterasi 2: b = 0 + 1 = 1<br>\n",
    "Iterasi 3: b = 1 + 2 = 3<br>\n",
    "Iterasi 4: b = 3 + 3 = 6<br>\n",
    "Iterasi 5: b = 6 + 4 = 10<br>\n",
    "\n",
    "Setelah loop selesai, variabel b berisi jumlah total dari angka 0 hingga 4, yaitu 10. Oleh karena itu, saat Anda mencetak variabel b, hasilnya adalah 10.\n",
    "\n",
    "- Alasan utama mengapa indeks loop tidak boleh diletakkan di dalam loop body di sebelah kiri tanda sama dengan (=) adalah karena akan mengubah nilai indeks loop itu sendiri, yang dapat menyebabkan perilaku loop yang tidak terduga dan sulit untuk dilacak.\n",
    "\n",
    "Misalkan Anda memiliki kode berikut:"
   ]
  },
  {
   "cell_type": "code",
   "execution_count": 11,
   "id": "b65a5ea2",
   "metadata": {},
   "outputs": [
    {
     "name": "stdout",
     "output_type": "stream",
     "text": [
      "10\n"
     ]
    }
   ],
   "source": [
    "b =  0\n",
    "# index i harus di letakan di sebelah kanan samadengan\n",
    "for i in range(5):\n",
    "    i = 2\n",
    "    b = b + i\n",
    "print(b)"
   ]
  },
  {
   "cell_type": "markdown",
   "id": "8650ee9b",
   "metadata": {},
   "source": [
    "Walaupun kode ini tampak berfungsi, perlu diingat bahwa kita tidak benar-benar mempengaruhi nilai indeks loop itu sendiri. Pada setiap iterasi, nilai i akan diatur ulang berdasarkan urutan angka yang dihasilkan oleh range(5). Jadi, sebenarnya kita tidak mengubah perilaku loop dengan mengubah nilai i di dalam loop body.\n",
    "\n",
    "Namun, dalam beberapa kasus, seperti saat menggunakan `while loop`, mengubah nilai indeks loop di dalam loop body dapat menyebabkan loop tak terbatas atau perilaku yang tidak diinginkan. Oleh karena itu, sebaiknya hindari mengubah nilai indeks loop secara eksplisit di dalam loop body.\n",
    "\n",
    "Sebagai praktik terbaik, Anda harus memperlakukan indeks loop sebagai variabel yang hanya digunakan untuk mengontrol loop dan tidak dimodifikasi di dalam loop body. Jika Anda perlu menghitung nilai yang berbeda berdasarkan indeks loop, buat variabel baru di dalam loop body dan gunakan variabel tersebut untuk menyimpan hasil perhitungan Anda."
   ]
  },
  {
   "cell_type": "markdown",
   "id": "794699f7",
   "metadata": {},
   "source": [
    "## Berikut contoh menggunakan list \n",
    "- Dalam contoh ini, kita menggunakan range() dengan argumen start = 0 (indeks awal), stop = len(kendaraan) (panjang list), dan step = 2 (jarak antara indeks). Dengan demikian, kita mengakses elemen list kendaraan dengan indeks 0, 2, dan 4, yang merupakan elemen dengan indeks genap."
   ]
  },
  {
   "cell_type": "code",
   "execution_count": 12,
   "id": "15d812ef",
   "metadata": {},
   "outputs": [
    {
     "name": "stdout",
     "output_type": "stream",
     "text": [
      "mobil\n",
      "motor\n",
      "bis\n",
      "truk\n",
      "sepeda\n"
     ]
    }
   ],
   "source": [
    "# Iterasi melalui urutan (sequence)\n",
    "kumpulan_kendaraan = ['mobil', 'motor', 'bis', 'truk', 'sepeda']\n",
    "for kendaraan in kumpulan_kendaraan:\n",
    "    print(kendaraan)"
   ]
  },
  {
   "cell_type": "code",
   "execution_count": 13,
   "id": "fe901148",
   "metadata": {
    "scrolled": true
   },
   "outputs": [
    {
     "name": "stdout",
     "output_type": "stream",
     "text": [
      "mobil\n",
      "bis\n",
      "sepeda\n"
     ]
    }
   ],
   "source": [
    "kumpulan_kendaraan = ['mobil', 'motor', 'bis', 'truk', 'sepeda']\n",
    "for kendaraan in range(0, len(kumpulan_kendaraan), 2):\n",
    "    print(kumpulan_kendaraan[kendaraan])"
   ]
  },
  {
   "cell_type": "markdown",
   "id": "71972ec4",
   "metadata": {},
   "source": [
    "Untuk mengubah hasil output dari kode tersebut menjadi list, Anda perlu membuat list kosong terlebih dahulu dan menambahkan elemen ke dalam list tersebut menggunakan metode append(). Berikut adalah contoh kode yang diubah:"
   ]
  },
  {
   "cell_type": "code",
   "execution_count": 14,
   "id": "fda33069",
   "metadata": {},
   "outputs": [
    {
     "name": "stdout",
     "output_type": "stream",
     "text": [
      "['mobil', 'bis', 'sepeda']\n"
     ]
    }
   ],
   "source": [
    "# menjadikan output kedalam list\n",
    "kendaraan = ['mobil', 'motor', 'bis', 'truk', 'sepeda']\n",
    "hasil = []\n",
    "\n",
    "for i in range(0, len(kendaraan), 2):\n",
    "    hasil.append(kendaraan[i])\n",
    "\n",
    "print(hasil)"
   ]
  },
  {
   "cell_type": "markdown",
   "id": "9a793539",
   "metadata": {},
   "source": [
    "Dalam kode ini, kita membuat list kosong bernama hasil. Kemudian, pada setiap iterasi, kita menambahkan elemen dengan indeks genap dari list kendaraan ke dalam list hasil menggunakan metode append(). Setelah perulangan selesai, kita mencetak list hasil yang berisi elemen dengan indeks genap dari list kendaraan."
   ]
  },
  {
   "cell_type": "markdown",
   "id": "5ef87fbf",
   "metadata": {},
   "source": [
    "### Contoh menggunakan enumerate dalam list"
   ]
  },
  {
   "cell_type": "code",
   "execution_count": 15,
   "id": "d1a99f40",
   "metadata": {
    "scrolled": true
   },
   "outputs": [
    {
     "name": "stdout",
     "output_type": "stream",
     "text": [
      "0 mobil\n",
      "1 motor\n",
      "2 bis\n",
      "3 truk\n",
      "4 sepeda\n"
     ]
    }
   ],
   "source": [
    "#ini biasanya digunakan apabila kita membutuhkan indexnya untuk merubah nilai di dalam listnya\n",
    "kumpulan_kendaraan = ['mobil', 'motor', 'bis', 'truk', 'sepeda']\n",
    "for i,a in enumerate(kumpulan_kendaraan):\n",
    "    print(i,a)"
   ]
  },
  {
   "cell_type": "markdown",
   "id": "6efa6655",
   "metadata": {},
   "source": [
    "## Melakukan Penjumlahan seluruh elemen pada sebuah matrix"
   ]
  },
  {
   "cell_type": "code",
   "execution_count": 16,
   "id": "dcc3526e",
   "metadata": {},
   "outputs": [
    {
     "data": {
      "text/plain": [
       "57"
      ]
     },
     "execution_count": 16,
     "metadata": {},
     "output_type": "execute_result"
    }
   ],
   "source": [
    "A = [[1,2,3], [4,5,6], [7,8,9], [4,5,3]] \n",
    "SUM = 0\n",
    "for i in range(4): # untuk setiap baris\n",
    "    for j in range(3): # untuk setiap kolom\n",
    "        SUM = SUM + A[i][j] # jumlahkanlah entry\" nya\n",
    "SUM"
   ]
  },
  {
   "cell_type": "markdown",
   "id": "764ef698",
   "metadata": {},
   "source": [
    "List A adalah list 2 dimensi dengan 4 baris dan 3 kolom\n",
    "\n",
    "Variabel SUM diinisialisasi dengan nilai 0. Ini akan digunakan untuk menyimpan jumlah total dari semua elemen dalam list A.\n",
    "\n",
    "Loop for luar akan berjalan dari 0 hingga 3 (eksklusif 4), yang mewakili indeks baris dari list A. Variabel i akan mengambil nilai 0, 1, 2, dan 3.\n",
    "\n",
    "Loop for dalam akan berjalan dari 0 hingga 2 (eksklusif 3), yang mewakili indeks kolom dari list A. Variabel j akan mengambil nilai 0, 1, dan 2.\n",
    "\n",
    "Pada setiap iterasi, elemen list A dengan indeks baris i dan indeks kolom j akan ditambahkan ke variabel SUM. Artinya, A[i][j] adalah elemen yang sedang kita proses, dan kita menambahkannya ke SUM: SUM = SUM + A[i][j].\n",
    "\n",
    "Setelah kedua loop for selesai, variabel SUM akan berisi jumlah total dari semua elemen dalam list A. Dalam hal ini, SUM akan dicetak sebagai output karena merupakan variabel terakhir dalam kode."
   ]
  },
  {
   "cell_type": "code",
   "execution_count": 17,
   "id": "60874d60",
   "metadata": {},
   "outputs": [
    {
     "data": {
      "text/plain": [
       "57"
      ]
     },
     "execution_count": 17,
     "metadata": {},
     "output_type": "execute_result"
    }
   ],
   "source": [
    "# Cara alternatif Kelebihannya adalah cara ini tidak bergantung pada ukuran A\n",
    "A = [[1,2,3], [4,5,6], [7,8,9], [4,5,3]] \n",
    "SUM = 0\n",
    "for b in A: # untuk setiap baris di matrix\n",
    "    for x in b: # untuk setiap elemen di baris tersebut\n",
    "        SUM = SUM + x # jumlahkanlah entry\" nya\n",
    "SUM"
   ]
  },
  {
   "cell_type": "code",
   "execution_count": 18,
   "id": "84364ea8",
   "metadata": {},
   "outputs": [
    {
     "data": {
      "text/plain": [
       "57"
      ]
     },
     "execution_count": 18,
     "metadata": {},
     "output_type": "execute_result"
    }
   ],
   "source": [
    "# Alternatif lebih baik nya melakukan combine perintah \"sum\" python dan list comperhension\n",
    "# ini ialah alasan utama  menulis variable SUM dengan huruf kapital\n",
    "# karena \"sum\" adalah nama fungsi built-in pada python namespace\n",
    "A = [[1,2,3], [4,5,6], [7,8,9], [4,5,3]] \n",
    "\n",
    "SUM = sum([sum(x) for x in A])\n",
    "SUM"
   ]
  },
  {
   "cell_type": "markdown",
   "id": "2c2b42d4",
   "metadata": {},
   "source": [
    "Kode diatas menggunakan list comprehension yang menghasilkan list baru yang berisi jumlah elemen pada setiap baris dalam list A. List comprehension ini akan menciptakan list [sum(x) for x in A], yang akan menghasilkan [6, 15, 24, 12]. Dalam proses ini, kita menggunakan fungsi bawaan sum() untuk menjumlahkan elemen pada setiap baris.\n",
    "\n",
    "Kemudian, kita menggunakan fungsi bawaan sum() lagi untuk menjumlahkan elemen-elemen dalam list yang dihasilkan oleh list comprehension. Hasilnya adalah 6 + 15 + 24 + 12 = 57.\n",
    "\n",
    "Nilai ini disimpan dalam variabel SUM. Dalam hal ini, SUM akan dicetak sebagai output karena merupakan variabel terakhir dalam kode.\n",
    "\n",
    "Kode ini lebih efisien daripada kode sebelumnya karena:\n",
    "\n",
    "- Kode ini lebih singkat dan lebih mudah dibaca, yang membuatnya lebih mudah untuk dipahami dan dikelola.\n",
    "- Kode ini menggunakan fungsi bawaan Python sum(), yang dioptimalkan dan umumnya lebih cepat daripada menggunakan loop manual untuk menjumlahkan elemen."
   ]
  },
  {
   "cell_type": "markdown",
   "id": "f205d883",
   "metadata": {},
   "source": [
    "# kapan biasanya for loop dilakukan?\n",
    "\n",
    "For loop digunakan dalam berbagai situasi di mana Anda perlu mengulangi blok kode untuk setiap elemen dalam suatu urutan atau menjalankan blok kode sejumlah kali tertentu. Selalu ingat untuk menggunakan for loop yang paling sesuai dengan kebutuhan Anda untuk menjaga kode tetap efisien dan mudah dibaca."
   ]
  },
  {
   "cell_type": "markdown",
   "id": "b79470ff",
   "metadata": {},
   "source": [
    "# While loop\n",
    "'while' loop Berbeda dengan 'for' loop yang umumnya digunakan untuk jumlah iterasi yang sudah ditentukan, 'while' loop lebih fleksibel dan cocok untuk situasi di mana kita tidak tahu pasti berapa kali perulangan harus dilakukan."
   ]
  },
  {
   "cell_type": "code",
   "execution_count": 20,
   "id": "df65b6f0",
   "metadata": {
    "scrolled": true
   },
   "outputs": [
    {
     "name": "stdout",
     "output_type": "stream",
     "text": [
      "Ini adalah iterasi ke- 0\n",
      "Ini adalah iterasi ke- 1\n",
      "Ini adalah iterasi ke- 2\n",
      "Ini adalah iterasi ke- 3\n",
      "Ini adalah iterasi ke- 4\n",
      "Ini adalah iterasi ke- 5\n",
      "Ini adalah iterasi ke- 6\n",
      "Ini adalah iterasi ke- 7\n",
      "Ini adalah iterasi ke- 8\n"
     ]
    }
   ],
   "source": [
    "# contoh looping while di python\n",
    "i = 0\n",
    "while i < 9:\n",
    "    print(\"Ini adalah iterasi ke-\", i)\n",
    "    i += 1"
   ]
  },
  {
   "cell_type": "markdown",
   "id": "4f721092",
   "metadata": {},
   "source": [
    "## Break & Continue\n",
    "'break' dan 'continue'\n",
    "Dalam loop, kita bisa menggunakan perintah 'break' untuk keluar dari loop sebelum kondisi menjadi False atau sebelum iterasi selesai. Sementara itu, perintah 'continue' digunakan untuk melewati sisa kode di dalam loop dan langsung melanjutkan ke iterasi berikutnya."
   ]
  },
  {
   "cell_type": "code",
   "execution_count": 21,
   "id": "d12cba1b",
   "metadata": {},
   "outputs": [
    {
     "name": "stdout",
     "output_type": "stream",
     "text": [
      "Ini adalah iterasi ke- 0\n",
      "Ini adalah iterasi ke- 1\n",
      "Ini adalah iterasi ke- 2\n",
      "Ini adalah iterasi ke- 3\n",
      "Ini adalah iterasi ke- 4\n"
     ]
    }
   ],
   "source": [
    "#Contoh penggunaan 'break':\n",
    "for i in range(10):\n",
    "    if i == 5:\n",
    "        break\n",
    "    print(\"Ini adalah iterasi ke-\", i)"
   ]
  },
  {
   "cell_type": "code",
   "execution_count": 22,
   "id": "35b31d61",
   "metadata": {},
   "outputs": [
    {
     "name": "stdout",
     "output_type": "stream",
     "text": [
      "Ini adalah angka ganjil: 1\n",
      "Ini adalah angka ganjil: 3\n",
      "Ini adalah angka ganjil: 5\n",
      "Ini adalah angka ganjil: 7\n",
      "Ini adalah angka ganjil: 9\n"
     ]
    }
   ],
   "source": [
    "#Contoh penggunaan 'continue':\n",
    "for i in range(10):\n",
    "    if i % 2 == 0:\n",
    "        continue\n",
    "    print(\"Ini adalah angka ganjil:\", i)"
   ]
  },
  {
   "cell_type": "markdown",
   "id": "245072d1",
   "metadata": {},
   "source": [
    "# For vs While"
   ]
  },
  {
   "cell_type": "code",
   "execution_count": 23,
   "id": "3d35b3de",
   "metadata": {},
   "outputs": [
    {
     "name": "stdout",
     "output_type": "stream",
     "text": [
      "7,6,5,4,3,2,1,"
     ]
    }
   ],
   "source": [
    "# contoh looping while di python\n",
    "n=7\n",
    "while n>0:\n",
    "    print(n, end=',')\n",
    "    n=n-1"
   ]
  },
  {
   "cell_type": "markdown",
   "id": "78a02ac2",
   "metadata": {},
   "source": [
    "Hal diatas merupakan code yang tidak efektif dan buruk, hal tersebut dikarnakan kita sudah mengetahui pasti berapa kali perulangan harus dilakukan, maka gunakanlah For seperti code dibawah."
   ]
  },
  {
   "cell_type": "code",
   "execution_count": 24,
   "id": "d6cff167",
   "metadata": {},
   "outputs": [
    {
     "name": "stdout",
     "output_type": "stream",
     "text": [
      "7, 6, 5, 4, 3, 2, 1, "
     ]
    }
   ],
   "source": [
    "# For vs While\n",
    "for i in range(1,8):\n",
    "    print(8-i, end=', ')"
   ]
  },
  {
   "cell_type": "markdown",
   "id": "b58388d6",
   "metadata": {},
   "source": [
    "# While for Domain Constrain\n",
    "- Dalam Statistika/Data Science/Database while digunakan untuk mencegah noise pada data collection.\n",
    "- Misal mencegah pengisian nilai lain selain Gender Pria/Wanita pada variable \"Jenis Kelamin\""
   ]
  },
  {
   "cell_type": "code",
   "execution_count": 25,
   "id": "0a4c568d",
   "metadata": {},
   "outputs": [
    {
     "name": "stdout",
     "output_type": "stream",
     "text": [
      "Apakah jenis kelamin anda = laki\n",
      "Apakah jenis kelamin anda = pria\n",
      "Arigato\n"
     ]
    }
   ],
   "source": [
    "# Contoh\n",
    "gender = ['pria', 'wanita']\n",
    "sex=''\n",
    "while sex not in gender:\n",
    "    sex = input('Apakah jenis kelamin anda = ')\n",
    "print('Arigato')"
   ]
  },
  {
   "cell_type": "markdown",
   "id": "a4c0e3f0",
   "metadata": {},
   "source": [
    "# Try Except\n",
    "- Secara umum sebuah program sebaiknya harus memiliki \"precaution\", just in case input yang tidak di inginkan masuk ke dalam sistem dan mengakibatkan error.\n",
    "- Istilah formal untuk hal ini adalah \"Domain Constrain\"\n",
    "- Pada dasarnya hampir semua bahasa pemrograman dan database mampu melakukan domain constrain."
   ]
  },
  {
   "cell_type": "code",
   "execution_count": 27,
   "id": "9e0f4cee",
   "metadata": {},
   "outputs": [
    {
     "name": "stdout",
     "output_type": "stream",
     "text": [
      "Masukkan angka: 90\n",
      "Angka yang dimasukkan adalah: 90\n"
     ]
    }
   ],
   "source": [
    "try:\n",
    "    number = int(input(\"Masukkan angka: \"))\n",
    "    print(\"Angka yang dimasukkan adalah:\", number)\n",
    "except ValueError:\n",
    "    print(\"Input yang diberikan bukan angka. Silahkan masukkan angka.\")"
   ]
  },
  {
   "cell_type": "markdown",
   "id": "7cf07bcb",
   "metadata": {},
   "source": [
    "Dalam contoh ini, jika pengguna memasukkan input yang bukan angka (seperti teks), int(input()) akan menghasilkan pengecualian ValueError. Dengan menggunakan blok try dan except, kita dapat menangani kesalahan ini dengan menampilkan pesan yang informatif alih-alih menghentikan eksekusi program dengan pesan kesalahan."
   ]
  },
  {
   "cell_type": "markdown",
   "id": "82427241",
   "metadata": {},
   "source": [
    "## Catch Error "
   ]
  },
  {
   "cell_type": "code",
   "execution_count": 30,
   "id": "b0805031",
   "metadata": {},
   "outputs": [
    {
     "name": "stdout",
     "output_type": "stream",
     "text": [
      "please input any integrer = cr7\n",
      "Error :  invalid literal for int() with base 10: 'cr7'\n"
     ]
    }
   ],
   "source": [
    "try:\n",
    "    n = int(input(\"please input any integrer = \"))\n",
    "    print(\"Arigatou\")\n",
    "except Exception as error_:\n",
    "    print('Error : ', error_)"
   ]
  },
  {
   "cell_type": "markdown",
   "id": "c3d9fb7f",
   "metadata": {},
   "source": [
    "jika masuk kedalam production level output sebelumnya bagus, karna kemudian bagi pengguna informatif, namun bagi programer perlu melihat \"Error :  invalid literal for int() with base 10: 'asd'\", nah biasanya pada production level, error ini disimpan kedalam error log pada database, ada database tertentu untuk log analysis, dan kemudian dapat di perbaiki karna ada log analysisnya."
   ]
  },
  {
   "cell_type": "markdown",
   "id": "0a631169",
   "metadata": {},
   "source": [
    "## bagaimana jika tidak menggunakan try except?"
   ]
  },
  {
   "cell_type": "code",
   "execution_count": 31,
   "id": "34559df4",
   "metadata": {
    "scrolled": true
   },
   "outputs": [
    {
     "name": "stdout",
     "output_type": "stream",
     "text": [
      "please input any integrer = cr7\n"
     ]
    },
    {
     "ename": "ValueError",
     "evalue": "invalid literal for int() with base 10: 'cr7'",
     "output_type": "error",
     "traceback": [
      "\u001b[1;31m---------------------------------------------------------------------------\u001b[0m",
      "\u001b[1;31mValueError\u001b[0m                                Traceback (most recent call last)",
      "Cell \u001b[1;32mIn[31], line 1\u001b[0m\n\u001b[1;32m----> 1\u001b[0m n \u001b[38;5;241m=\u001b[39m \u001b[38;5;28;43mint\u001b[39;49m\u001b[43m(\u001b[49m\u001b[38;5;28;43minput\u001b[39;49m\u001b[43m(\u001b[49m\u001b[38;5;124;43m\"\u001b[39;49m\u001b[38;5;124;43mplease input any integrer = \u001b[39;49m\u001b[38;5;124;43m\"\u001b[39;49m\u001b[43m)\u001b[49m\u001b[43m)\u001b[49m\n\u001b[0;32m      2\u001b[0m \u001b[38;5;28mprint\u001b[39m(\u001b[38;5;124m\"\u001b[39m\u001b[38;5;124mArigatou\u001b[39m\u001b[38;5;124m\"\u001b[39m)\n",
      "\u001b[1;31mValueError\u001b[0m: invalid literal for int() with base 10: 'cr7'"
     ]
    }
   ],
   "source": [
    "n = int(input(\"please input any integrer = \"))\n",
    "print(\"Arigatou\")"
   ]
  },
  {
   "cell_type": "markdown",
   "id": "eb20745b",
   "metadata": {},
   "source": [
    "bayangkan program pada production level di tokopedia grab gojek, kalaupun ada error, oke error akan disimpan untuk kemudian diperbaiki nanti, dan kemudian programnya tetap jalan, sehingga tetap bisa di gunakan, ***error catching*** pada production level menjadi penting sekali, karna kalu error ini tidak kita tangkap kemudian bisa sitemnya down dan tidak bisa dipakai, bayangkan jika gojek tiba\" ada suatu error atau bug di programnya yang kemudian akhiornya membuat astu aplikasi berhenti semua."
   ]
  },
  {
   "cell_type": "markdown",
   "id": "0d18e751",
   "metadata": {},
   "source": [
    "# Function\n",
    "Mendefinisikan Fungsi\n",
    "Untuk membuat fungsi dalam Python, gunakan kata kunci def diikuti oleh nama fungsi dan tanda kurung yang berisi parameter (jika ada). Kemudian, tambahkan titik dua (:) dan blok kode yang akan dieksekusi ketika fungsi dipanggil."
   ]
  },
  {
   "cell_type": "markdown",
   "id": "d0ddade9",
   "metadata": {},
   "source": [
    "<img src=\"Define_a_function.png\" alt=\"Define_a_function\" width=\"650\" height=\"500\">\n",
    "<!-- ![Alt text](./Define_a_function.png) -->"
   ]
  },
  {
   "cell_type": "code",
   "execution_count": 32,
   "id": "59d12639",
   "metadata": {
    "scrolled": false
   },
   "outputs": [
    {
     "data": {
      "text/plain": [
       "10"
      ]
     },
     "execution_count": 32,
     "metadata": {},
     "output_type": "execute_result"
    }
   ],
   "source": [
    "def addtwo(a,b):\n",
    "    c = a+b\n",
    "    return c\n",
    "addtwo(4,6)"
   ]
  },
  {
   "cell_type": "markdown",
   "id": "d91c834e",
   "metadata": {},
   "source": [
    "## Memanggil Fungsi\n",
    "Untuk memanggil fungsi, cukup gunakan nama fungsi diikuti oleh tanda kurung yang berisi argumen yang sesuai dengan parameter yang didefinisikan dalam fungsi."
   ]
  },
  {
   "cell_type": "code",
   "execution_count": 33,
   "id": "cb0ccfa6",
   "metadata": {},
   "outputs": [
    {
     "name": "stdout",
     "output_type": "stream",
     "text": [
      "Hello, World!\n"
     ]
    }
   ],
   "source": [
    "def greet():\n",
    "    print(\"Hello, World!\")\n",
    "    \n",
    "greet()  # Output: Hello, World!"
   ]
  },
  {
   "cell_type": "code",
   "execution_count": 34,
   "id": "1eba87d5",
   "metadata": {},
   "outputs": [
    {
     "data": {
      "text/plain": [
       "8"
      ]
     },
     "execution_count": 34,
     "metadata": {},
     "output_type": "execute_result"
    }
   ],
   "source": [
    "def add(a, b):\n",
    "    return a + b\n",
    "add(3, 5)  # result = 8"
   ]
  },
  {
   "cell_type": "markdown",
   "id": "276577b5",
   "metadata": {},
   "source": [
    "## Parameter dan Argumen\n",
    "Parameter adalah variabel yang digunakan dalam definisi fungsi, sedangkan argumen adalah nilai yang diberikan saat memanggil fungsi. Parameter didefinisikan dalam tanda kurung setelah nama fungsi, dan argumen ditempatkan dalam tanda kurung saat memanggil fungsi."
   ]
  },
  {
   "cell_type": "code",
   "execution_count": 35,
   "id": "21ae605d",
   "metadata": {},
   "outputs": [
    {
     "name": "stdout",
     "output_type": "stream",
     "text": [
      "Hello, Alice!\n"
     ]
    }
   ],
   "source": [
    "def greet(name):\n",
    "    print(f\"Hello, {name}!\")\n",
    "\n",
    "greet(\"Alice\") "
   ]
  },
  {
   "cell_type": "markdown",
   "id": "f6fae474",
   "metadata": {},
   "source": [
    "# Contoh kasus"
   ]
  },
  {
   "cell_type": "code",
   "execution_count": 36,
   "id": "661078b9",
   "metadata": {},
   "outputs": [],
   "source": [
    "# Fungsi di Python cukup sederhana dan \n",
    "# parameter fungsi adalah variabel to reference\n",
    "# Sebaiknya diberikan multiple lines of metaFunction (keterangan tentang fungsi)\n",
    "def calculate_flow_rate(volume, time):\n",
    "    \"\"\"\n",
    "    Menghitung debit aliran berdasarkan volume air yang mengalir dan waktu.\n",
    "\n",
    "    Args:\n",
    "    volume (float): Volume air yang mengalir dalam liter.\n",
    "    time (float): Waktu dalam detik.\n",
    "\n",
    "    Returns:\n",
    "    float: Debit aliran dalam liter/detik.\n",
    "    \"\"\"\n",
    "    flow_rate = volume / time\n",
    "    return flow_rate"
   ]
  },
  {
   "cell_type": "code",
   "execution_count": 37,
   "id": "35956e7e",
   "metadata": {},
   "outputs": [
    {
     "name": "stdout",
     "output_type": "stream",
     "text": [
      "Debit aliran: 10.0 liter/detik\n"
     ]
    }
   ],
   "source": [
    "volume = 100  # Volume air dalam liter\n",
    "time = 10     # Waktu dalam detik\n",
    "\n",
    "flow_rate = calculate_flow_rate(volume, time)\n",
    "print(f\"Debit aliran: {flow_rate} liter/detik\")  # Output: Debit aliran: 10.0 liter/detik"
   ]
  },
  {
   "cell_type": "code",
   "execution_count": 38,
   "id": "f153d01a",
   "metadata": {},
   "outputs": [
    {
     "name": "stdout",
     "output_type": "stream",
     "text": [
      "Help on function calculate_flow_rate in module __main__:\n",
      "\n",
      "calculate_flow_rate(volume, time)\n",
      "    Menghitung debit aliran berdasarkan volume air yang mengalir dan waktu.\n",
      "    \n",
      "    Args:\n",
      "    volume (float): Volume air yang mengalir dalam liter.\n",
      "    time (float): Waktu dalam detik.\n",
      "    \n",
      "    Returns:\n",
      "    float: Debit aliran dalam liter/detik.\n",
      "\n"
     ]
    }
   ],
   "source": [
    "# Kita bisa melakukan ini kalau kita membuat fungsi dengan \"estetika\" Python yang benar\n",
    "help(calculate_flow_rate)"
   ]
  },
  {
   "cell_type": "markdown",
   "id": "833b762a",
   "metadata": {},
   "source": [
    "## Pengaplikasian function pada dataframe menggunakan for loop\n",
    "\n",
    "<<>>\n",
    "\n",
    "<!-- Kode ini menghitung debit aliran untuk setiap baris dalam DataFrame `flow_data` dan menyimpan hasil perhitungan dalam kolom baru bernama \"flow_rate\". Berikut adalah penjelasan langkah demi langkah dari kode tersebut:\n",
    "\n",
    "1. `flow_data[\"flow_rate\"] = 0`: Ini membuat kolom baru bernama \"flow_rate\" dalam DataFrame `flow_data` dan menginisialisasi semua nilainya menjadi 0.\n",
    "\n",
    "2. `for index, row in flow_data.iterrows():`: Menggunakan loop for untuk mengiterasi setiap baris dalam DataFrame `flow_data`. Fungsi `iterrows()` mengembalikan pasangan nilai indeks dan baris dari DataFrame.\n",
    "\n",
    "3. `volume = row[\"volume_liters\"]`: Mengakses nilai kolom \"volume_liters\" untuk baris saat ini dan menyimpannya dalam variabel `volume`.\n",
    "\n",
    "4. `time = row[\"time_seconds\"]`: Mengakses nilai kolom \"time_seconds\" untuk baris saat ini dan menyimpannya dalam variabel `time`.\n",
    "\n",
    "5. `flow_rate = calculate_flow_rate(volume, time)`: Memanggil fungsi `calculate_flow_rate` dengan argumen `volume` dan `time` untuk menghitung debit aliran. Hasil perhitungan disimpan dalam variabel `flow_rate`.\n",
    "\n",
    "6. `flow_data.at[index, \"flow_rate\"] = flow_rate`: Menggunakan metode `at` untuk mengatur nilai kolom \"flow_rate\" pada indeks yang sesuai dalam DataFrame `flow_data` dengan hasil perhitungan yang disimpan dalam variabel `flow_rate`.\n",
    "\n",
    "7. Setelah loop for selesai, `flow_data` akan berisi kolom \"flow_rate\" yang telah diisi dengan hasil perhitungan debit aliran untuk setiap baris.\n",
    "\n",
    "Output akhir dari DataFrame `flow_data` setelah menjalankan kode ini akan menampilkan kolom baru \"flow_rate\" dengan nilai-nilai debit aliran yang telah dihitung untuk setiap baris:\n",
    "\n",
    "```\n",
    "   pipe_id  volume_liters  time_seconds  flow_rate\n",
    "0        1            250            25       10.0\n",
    "1        2            300            20       15.0\n",
    "2        3            150            30        5.0\n",
    "3        4            500            40       12.5\n",
    "``` -->"
   ]
  },
  {
   "cell_type": "code",
   "execution_count": 39,
   "id": "f50ac5b7",
   "metadata": {
    "scrolled": true
   },
   "outputs": [
    {
     "data": {
      "text/html": [
       "<div>\n",
       "<style scoped>\n",
       "    .dataframe tbody tr th:only-of-type {\n",
       "        vertical-align: middle;\n",
       "    }\n",
       "\n",
       "    .dataframe tbody tr th {\n",
       "        vertical-align: top;\n",
       "    }\n",
       "\n",
       "    .dataframe thead th {\n",
       "        text-align: right;\n",
       "    }\n",
       "</style>\n",
       "<table border=\"1\" class=\"dataframe\">\n",
       "  <thead>\n",
       "    <tr style=\"text-align: right;\">\n",
       "      <th></th>\n",
       "      <th>pipe_id</th>\n",
       "      <th>volume_liters</th>\n",
       "      <th>time_seconds</th>\n",
       "    </tr>\n",
       "  </thead>\n",
       "  <tbody>\n",
       "    <tr>\n",
       "      <th>0</th>\n",
       "      <td>1</td>\n",
       "      <td>250</td>\n",
       "      <td>25</td>\n",
       "    </tr>\n",
       "    <tr>\n",
       "      <th>1</th>\n",
       "      <td>2</td>\n",
       "      <td>300</td>\n",
       "      <td>20</td>\n",
       "    </tr>\n",
       "    <tr>\n",
       "      <th>2</th>\n",
       "      <td>3</td>\n",
       "      <td>150</td>\n",
       "      <td>30</td>\n",
       "    </tr>\n",
       "    <tr>\n",
       "      <th>3</th>\n",
       "      <td>4</td>\n",
       "      <td>500</td>\n",
       "      <td>40</td>\n",
       "    </tr>\n",
       "  </tbody>\n",
       "</table>\n",
       "</div>"
      ],
      "text/plain": [
       "   pipe_id  volume_liters  time_seconds\n",
       "0        1            250            25\n",
       "1        2            300            20\n",
       "2        3            150            30\n",
       "3        4            500            40"
      ]
     },
     "execution_count": 39,
     "metadata": {},
     "output_type": "execute_result"
    }
   ],
   "source": [
    "import pandas as pd\n",
    "\n",
    "data = {\n",
    "    \"pipe_id\": [1, 2, 3, 4],\n",
    "    \"volume_liters\": [250, 300, 150, 500],\n",
    "    \"time_seconds\": [25, 20, 30, 40],\n",
    "}\n",
    "\n",
    "flow_data = pd.DataFrame(data)\n",
    "flow_data"
   ]
  },
  {
   "cell_type": "code",
   "execution_count": 40,
   "id": "7ed8e54e",
   "metadata": {},
   "outputs": [
    {
     "data": {
      "text/html": [
       "<div>\n",
       "<style scoped>\n",
       "    .dataframe tbody tr th:only-of-type {\n",
       "        vertical-align: middle;\n",
       "    }\n",
       "\n",
       "    .dataframe tbody tr th {\n",
       "        vertical-align: top;\n",
       "    }\n",
       "\n",
       "    .dataframe thead th {\n",
       "        text-align: right;\n",
       "    }\n",
       "</style>\n",
       "<table border=\"1\" class=\"dataframe\">\n",
       "  <thead>\n",
       "    <tr style=\"text-align: right;\">\n",
       "      <th></th>\n",
       "      <th>pipe_id</th>\n",
       "      <th>volume_liters</th>\n",
       "      <th>time_seconds</th>\n",
       "      <th>flow_rate</th>\n",
       "    </tr>\n",
       "  </thead>\n",
       "  <tbody>\n",
       "    <tr>\n",
       "      <th>0</th>\n",
       "      <td>1</td>\n",
       "      <td>250</td>\n",
       "      <td>25</td>\n",
       "      <td>10.0</td>\n",
       "    </tr>\n",
       "    <tr>\n",
       "      <th>1</th>\n",
       "      <td>2</td>\n",
       "      <td>300</td>\n",
       "      <td>20</td>\n",
       "      <td>15.0</td>\n",
       "    </tr>\n",
       "    <tr>\n",
       "      <th>2</th>\n",
       "      <td>3</td>\n",
       "      <td>150</td>\n",
       "      <td>30</td>\n",
       "      <td>5.0</td>\n",
       "    </tr>\n",
       "    <tr>\n",
       "      <th>3</th>\n",
       "      <td>4</td>\n",
       "      <td>500</td>\n",
       "      <td>40</td>\n",
       "      <td>12.5</td>\n",
       "    </tr>\n",
       "  </tbody>\n",
       "</table>\n",
       "</div>"
      ],
      "text/plain": [
       "   pipe_id  volume_liters  time_seconds  flow_rate\n",
       "0        1            250            25       10.0\n",
       "1        2            300            20       15.0\n",
       "2        3            150            30        5.0\n",
       "3        4            500            40       12.5"
      ]
     },
     "execution_count": 40,
     "metadata": {},
     "output_type": "execute_result"
    }
   ],
   "source": [
    "# Buat kolom baru untuk menyimpan hasil perhitungan debit aliran\n",
    "flow_data[\"flow_rate\"] = 0\n",
    "\n",
    "# Menggunakan loop for untuk menghitung debit aliran untuk setiap baris dalam DataFrame\n",
    "for index, row in flow_data.iterrows():\n",
    "    volume = row[\"volume_liters\"]\n",
    "    time = row[\"time_seconds\"]\n",
    "    flow_rate = calculate_flow_rate(volume, time)\n",
    "    flow_data.at[index, \"flow_rate\"] = flow_rate\n",
    "\n",
    "flow_data"
   ]
  },
  {
   "cell_type": "markdown",
   "id": "ecb46067",
   "metadata": {},
   "source": [
    "## Pengaplikasian function pada dataframe menggunakan lambda function\n",
    "\n",
    "<<>>\n",
    "\n",
    "<!-- Kode ini menghitung debit aliran untuk setiap baris dalam DataFrame `flow_data` menggunakan fungsi `apply()` dan fungsi lambda. Hasil perhitungan disimpan dalam kolom baru bernama \"flow_rate\". Berikut adalah penjelasan langkah demi langkah dari kode tersebut:\n",
    "\n",
    "1. `flow_data.apply(...)`: Metode `apply()` pada objek DataFrame digunakan untuk menerapkan suatu fungsi pada seluruh DataFrame atau pada sumbu tertentu (baris atau kolom). Dalam kasus ini, kita ingin menerapkan fungsi lambda pada setiap baris DataFrame, jadi kita menggunakan argumen `axis=1`.\n",
    "\n",
    "2. `lambda row: ...`: Fungsi lambda didefinisikan untuk mengambil satu argumen, yaitu `row`. Fungsi lambda akan dipanggil dengan setiap baris DataFrame sebagai argumen.\n",
    "\n",
    "3. `calculate_flow_rate(row[\"volume_liters\"], row[\"time_seconds\"])`: Di dalam fungsi lambda, kita memanggil fungsi `calculate_flow_rate()` dengan argumen yang diambil dari kolom \"volume_liters\" dan \"time_seconds\" pada baris saat ini. Hasil perhitungan debit aliran akan menjadi nilai yang dikembalikan oleh fungsi lambda.\n",
    "\n",
    "4. `flow_data[\"flow_rate\"] = ...`: Hasil perhitungan debit aliran untuk setiap baris akan disimpan dalam kolom baru bernama \"flow_rate\" pada DataFrame `flow_data`.\n",
    "\n",
    "Setelah menjalankan kode ini, DataFrame `flow_data` akan berisi kolom \"flow_rate\" yang telah diisi dengan hasil perhitungan debit aliran untuk setiap baris:\n",
    "\n",
    "```\n",
    "   pipe_id  volume_liters  time_seconds  flow_rate\n",
    "0        1            250            25       10.0\n",
    "1        2            300            20       15.0\n",
    "2        3            150            30        5.0\n",
    "3        4            500            40       12.5\n",
    "```\n",
    "\n",
    "Dengan pendekatan ini, kita dapat menghitung debit aliran dalam satu baris kode menggunakan fungsi `apply()` dan fungsi lambda, sehingga kode menjadi lebih ringkas dan mudah dibaca. -->"
   ]
  },
  {
   "cell_type": "code",
   "execution_count": 11,
   "id": "cfc1e41f",
   "metadata": {},
   "outputs": [
    {
     "data": {
      "text/html": [
       "<div>\n",
       "<style scoped>\n",
       "    .dataframe tbody tr th:only-of-type {\n",
       "        vertical-align: middle;\n",
       "    }\n",
       "\n",
       "    .dataframe tbody tr th {\n",
       "        vertical-align: top;\n",
       "    }\n",
       "\n",
       "    .dataframe thead th {\n",
       "        text-align: right;\n",
       "    }\n",
       "</style>\n",
       "<table border=\"1\" class=\"dataframe\">\n",
       "  <thead>\n",
       "    <tr style=\"text-align: right;\">\n",
       "      <th></th>\n",
       "      <th>pipe_id</th>\n",
       "      <th>volume_liters</th>\n",
       "      <th>time_seconds</th>\n",
       "      <th>flow_rate</th>\n",
       "    </tr>\n",
       "  </thead>\n",
       "  <tbody>\n",
       "    <tr>\n",
       "      <th>0</th>\n",
       "      <td>1</td>\n",
       "      <td>250</td>\n",
       "      <td>25</td>\n",
       "      <td>10.0</td>\n",
       "    </tr>\n",
       "    <tr>\n",
       "      <th>1</th>\n",
       "      <td>2</td>\n",
       "      <td>300</td>\n",
       "      <td>20</td>\n",
       "      <td>15.0</td>\n",
       "    </tr>\n",
       "    <tr>\n",
       "      <th>2</th>\n",
       "      <td>3</td>\n",
       "      <td>150</td>\n",
       "      <td>30</td>\n",
       "      <td>5.0</td>\n",
       "    </tr>\n",
       "    <tr>\n",
       "      <th>3</th>\n",
       "      <td>4</td>\n",
       "      <td>500</td>\n",
       "      <td>40</td>\n",
       "      <td>12.5</td>\n",
       "    </tr>\n",
       "  </tbody>\n",
       "</table>\n",
       "</div>"
      ],
      "text/plain": [
       "   pipe_id  volume_liters  time_seconds  flow_rate\n",
       "0        1            250            25       10.0\n",
       "1        2            300            20       15.0\n",
       "2        3            150            30        5.0\n",
       "3        4            500            40       12.5"
      ]
     },
     "execution_count": 11,
     "metadata": {},
     "output_type": "execute_result"
    }
   ],
   "source": [
    "flow_data[\"flow_rate\"] = flow_data.apply(lambda row: calculate_flow_rate(row[\"volume_liters\"], row[\"time_seconds\"]), axis=1)\n",
    "flow_data"
   ]
  },
  {
   "cell_type": "markdown",
   "id": "857ab9c6",
   "metadata": {},
   "source": [
    "# Soal Function"
   ]
  },
  {
   "cell_type": "code",
   "execution_count": 60,
   "id": "fa372282",
   "metadata": {},
   "outputs": [
    {
     "data": {
      "text/html": [
       "<div>\n",
       "<style scoped>\n",
       "    .dataframe tbody tr th:only-of-type {\n",
       "        vertical-align: middle;\n",
       "    }\n",
       "\n",
       "    .dataframe tbody tr th {\n",
       "        vertical-align: top;\n",
       "    }\n",
       "\n",
       "    .dataframe thead th {\n",
       "        text-align: right;\n",
       "    }\n",
       "</style>\n",
       "<table border=\"1\" class=\"dataframe\">\n",
       "  <thead>\n",
       "    <tr style=\"text-align: right;\">\n",
       "      <th></th>\n",
       "      <th>particle_id</th>\n",
       "      <th>distance_meters</th>\n",
       "      <th>time_seconds</th>\n",
       "      <th>initial_speed_mps</th>\n",
       "      <th>final_speed_mps</th>\n",
       "      <th>mass_kg</th>\n",
       "    </tr>\n",
       "  </thead>\n",
       "  <tbody>\n",
       "    <tr>\n",
       "      <th>0</th>\n",
       "      <td>1</td>\n",
       "      <td>100</td>\n",
       "      <td>10</td>\n",
       "      <td>0</td>\n",
       "      <td>20</td>\n",
       "      <td>5</td>\n",
       "    </tr>\n",
       "    <tr>\n",
       "      <th>1</th>\n",
       "      <td>2</td>\n",
       "      <td>200</td>\n",
       "      <td>20</td>\n",
       "      <td>5</td>\n",
       "      <td>15</td>\n",
       "      <td>10</td>\n",
       "    </tr>\n",
       "    <tr>\n",
       "      <th>2</th>\n",
       "      <td>3</td>\n",
       "      <td>150</td>\n",
       "      <td>15</td>\n",
       "      <td>10</td>\n",
       "      <td>25</td>\n",
       "      <td>7</td>\n",
       "    </tr>\n",
       "    <tr>\n",
       "      <th>3</th>\n",
       "      <td>4</td>\n",
       "      <td>250</td>\n",
       "      <td>25</td>\n",
       "      <td>15</td>\n",
       "      <td>20</td>\n",
       "      <td>12</td>\n",
       "    </tr>\n",
       "  </tbody>\n",
       "</table>\n",
       "</div>"
      ],
      "text/plain": [
       "   particle_id  distance_meters  time_seconds  initial_speed_mps  \\\n",
       "0            1              100            10                  0   \n",
       "1            2              200            20                  5   \n",
       "2            3              150            15                 10   \n",
       "3            4              250            25                 15   \n",
       "\n",
       "   final_speed_mps  mass_kg  \n",
       "0               20        5  \n",
       "1               15       10  \n",
       "2               25        7  \n",
       "3               20       12  "
      ]
     },
     "execution_count": 60,
     "metadata": {},
     "output_type": "execute_result"
    }
   ],
   "source": [
    "import pandas as pd\n",
    "\n",
    "data = {\n",
    "    \"particle_id\": [1, 2, 3, 4],\n",
    "    \"distance_meters\": [100, 200, 150, 250],\n",
    "    \"time_seconds\": [10, 20, 15, 25],\n",
    "    \"initial_speed_mps\": [0, 5, 10, 15],\n",
    "    \"final_speed_mps\": [20, 15, 25, 20],\n",
    "    \"mass_kg\": [5, 10, 7, 12],\n",
    "}\n",
    "\n",
    "particle_data = pd.DataFrame(data)\n",
    "particle_data"
   ]
  },
  {
   "cell_type": "markdown",
   "id": "fe513c26",
   "metadata": {},
   "source": [
    "1) Buatlah fungsi untuk menghitung kecepatan rata-rata partikel menggunakan rumus: ***average_speed = distance / time***. Gunakan DataFrame di atas dan hitunglah kecepatan rata-rata untuk setiap partikel.\n",
    "\n",
    "\n",
    "2) Buatlah fungsi untuk menghitung percepatan partikel menggunakan rumus: ***acceleration = (final_speed - initial_speed) / time***. Gunakan DataFrame di atas dan hitunglah percepatan untuk setiap partikel.\n",
    "\n",
    "\n",
    "3) Buatlah fungsi untuk menghitung energi kinetik partikel menggunakan rumus: ***kinetic_energy = 0.5 * mass * (final_speed ^ 2)***. Gunakan DataFrame di atas dan hitunglah energi kinetik untuk setiap partikel.\n",
    "\n",
    "\n",
    "4) Tambahkan kolom baru pada DataFrame untuk menyimpan hasil perhitungan kecepatan rata-rata, percepatan, dan energi kinetik. Tampilkan DataFrame yang telah diperbarui.\n",
    "\n",
    "Dalam soal ini, siswa diharapkan untuk memahami konsep fungsi dalam Python, serta bagaimana menggunakan fungsi tersebut untuk mengolah data dalam DataFrame dan menerapkan rumus fisika instrumental."
   ]
  },
  {
   "cell_type": "code",
   "execution_count": 61,
   "id": "711260bc",
   "metadata": {},
   "outputs": [
    {
     "data": {
      "text/html": [
       "<div>\n",
       "<style scoped>\n",
       "    .dataframe tbody tr th:only-of-type {\n",
       "        vertical-align: middle;\n",
       "    }\n",
       "\n",
       "    .dataframe tbody tr th {\n",
       "        vertical-align: top;\n",
       "    }\n",
       "\n",
       "    .dataframe thead th {\n",
       "        text-align: right;\n",
       "    }\n",
       "</style>\n",
       "<table border=\"1\" class=\"dataframe\">\n",
       "  <thead>\n",
       "    <tr style=\"text-align: right;\">\n",
       "      <th></th>\n",
       "      <th>particle_id</th>\n",
       "      <th>distance_meters</th>\n",
       "      <th>time_seconds</th>\n",
       "      <th>initial_speed_mps</th>\n",
       "      <th>final_speed_mps</th>\n",
       "      <th>mass_kg</th>\n",
       "      <th>average_speed</th>\n",
       "    </tr>\n",
       "  </thead>\n",
       "  <tbody>\n",
       "    <tr>\n",
       "      <th>0</th>\n",
       "      <td>1</td>\n",
       "      <td>100</td>\n",
       "      <td>10</td>\n",
       "      <td>0</td>\n",
       "      <td>20</td>\n",
       "      <td>5</td>\n",
       "      <td>10</td>\n",
       "    </tr>\n",
       "    <tr>\n",
       "      <th>1</th>\n",
       "      <td>2</td>\n",
       "      <td>200</td>\n",
       "      <td>20</td>\n",
       "      <td>5</td>\n",
       "      <td>15</td>\n",
       "      <td>10</td>\n",
       "      <td>10</td>\n",
       "    </tr>\n",
       "    <tr>\n",
       "      <th>2</th>\n",
       "      <td>3</td>\n",
       "      <td>150</td>\n",
       "      <td>15</td>\n",
       "      <td>10</td>\n",
       "      <td>25</td>\n",
       "      <td>7</td>\n",
       "      <td>10</td>\n",
       "    </tr>\n",
       "    <tr>\n",
       "      <th>3</th>\n",
       "      <td>4</td>\n",
       "      <td>250</td>\n",
       "      <td>25</td>\n",
       "      <td>15</td>\n",
       "      <td>20</td>\n",
       "      <td>12</td>\n",
       "      <td>10</td>\n",
       "    </tr>\n",
       "  </tbody>\n",
       "</table>\n",
       "</div>"
      ],
      "text/plain": [
       "   particle_id  distance_meters  time_seconds  initial_speed_mps  \\\n",
       "0            1              100            10                  0   \n",
       "1            2              200            20                  5   \n",
       "2            3              150            15                 10   \n",
       "3            4              250            25                 15   \n",
       "\n",
       "   final_speed_mps  mass_kg  average_speed  \n",
       "0               20        5             10  \n",
       "1               15       10             10  \n",
       "2               25        7             10  \n",
       "3               20       12             10  "
      ]
     },
     "execution_count": 61,
     "metadata": {},
     "output_type": "execute_result"
    }
   ],
   "source": [
    "#Soal 1\n",
    "def calculate_average_speed(distance, time):\n",
    "    average_speed = distance / time\n",
    "    return average_speed\n",
    "# Buat kolom baru untuk menyimpan hasil perhitungan debit aliran\n",
    "particle_data[\"average_speed\"] = 0\n",
    "\n",
    "# Menggunakan loop for untuk average speed\n",
    "for index, row in particle_data.iterrows():\n",
    "    distance = row[\"distance_meters\"]\n",
    "    time = row[\"time_seconds\"]\n",
    "    average_speed = calculate_average_speed(distance, time)\n",
    "    particle_data.at[index, \"average_speed\"] = average_speed\n",
    "\n",
    "particle_data"
   ]
  },
  {
   "cell_type": "code",
   "execution_count": 62,
   "id": "66ae62c4",
   "metadata": {},
   "outputs": [
    {
     "data": {
      "text/html": [
       "<div>\n",
       "<style scoped>\n",
       "    .dataframe tbody tr th:only-of-type {\n",
       "        vertical-align: middle;\n",
       "    }\n",
       "\n",
       "    .dataframe tbody tr th {\n",
       "        vertical-align: top;\n",
       "    }\n",
       "\n",
       "    .dataframe thead th {\n",
       "        text-align: right;\n",
       "    }\n",
       "</style>\n",
       "<table border=\"1\" class=\"dataframe\">\n",
       "  <thead>\n",
       "    <tr style=\"text-align: right;\">\n",
       "      <th></th>\n",
       "      <th>particle_id</th>\n",
       "      <th>distance_meters</th>\n",
       "      <th>time_seconds</th>\n",
       "      <th>initial_speed_mps</th>\n",
       "      <th>final_speed_mps</th>\n",
       "      <th>mass_kg</th>\n",
       "      <th>average_speed</th>\n",
       "      <th>delta_speed</th>\n",
       "      <th>acceleration</th>\n",
       "    </tr>\n",
       "  </thead>\n",
       "  <tbody>\n",
       "    <tr>\n",
       "      <th>0</th>\n",
       "      <td>1</td>\n",
       "      <td>100</td>\n",
       "      <td>10</td>\n",
       "      <td>0</td>\n",
       "      <td>20</td>\n",
       "      <td>5</td>\n",
       "      <td>10</td>\n",
       "      <td>20</td>\n",
       "      <td>2.0</td>\n",
       "    </tr>\n",
       "    <tr>\n",
       "      <th>1</th>\n",
       "      <td>2</td>\n",
       "      <td>200</td>\n",
       "      <td>20</td>\n",
       "      <td>5</td>\n",
       "      <td>15</td>\n",
       "      <td>10</td>\n",
       "      <td>10</td>\n",
       "      <td>10</td>\n",
       "      <td>0.5</td>\n",
       "    </tr>\n",
       "    <tr>\n",
       "      <th>2</th>\n",
       "      <td>3</td>\n",
       "      <td>150</td>\n",
       "      <td>15</td>\n",
       "      <td>10</td>\n",
       "      <td>25</td>\n",
       "      <td>7</td>\n",
       "      <td>10</td>\n",
       "      <td>15</td>\n",
       "      <td>1.0</td>\n",
       "    </tr>\n",
       "    <tr>\n",
       "      <th>3</th>\n",
       "      <td>4</td>\n",
       "      <td>250</td>\n",
       "      <td>25</td>\n",
       "      <td>15</td>\n",
       "      <td>20</td>\n",
       "      <td>12</td>\n",
       "      <td>10</td>\n",
       "      <td>5</td>\n",
       "      <td>0.2</td>\n",
       "    </tr>\n",
       "  </tbody>\n",
       "</table>\n",
       "</div>"
      ],
      "text/plain": [
       "   particle_id  distance_meters  time_seconds  initial_speed_mps  \\\n",
       "0            1              100            10                  0   \n",
       "1            2              200            20                  5   \n",
       "2            3              150            15                 10   \n",
       "3            4              250            25                 15   \n",
       "\n",
       "   final_speed_mps  mass_kg  average_speed  delta_speed  acceleration  \n",
       "0               20        5             10           20           2.0  \n",
       "1               15       10             10           10           0.5  \n",
       "2               25        7             10           15           1.0  \n",
       "3               20       12             10            5           0.2  "
      ]
     },
     "execution_count": 62,
     "metadata": {},
     "output_type": "execute_result"
    }
   ],
   "source": [
    "#Soal 2\n",
    "def calculate_delta_speed(final, initial):\n",
    "    delta_speed = (final-initial)\n",
    "    return delta_speed\n",
    "\n",
    "# Buat kolom baru untuk menyimpan hasil delta speed\n",
    "particle_data[\"delta_speed\"] = 0\n",
    "\n",
    "# Menggunakan loop for untuk delta speed\n",
    "for index, row in particle_data.iterrows():\n",
    "    final = row[\"final_speed_mps\"]\n",
    "    initial = row[\"initial_speed_mps\"]\n",
    "    delta_speed = calculate_delta_speed(final, initial)\n",
    "    particle_data.at[index, \"delta_speed\"] = delta_speed\n",
    "\n",
    "    \n",
    "def calculate_acceleration(delta_speed, time):\n",
    "    acceleration = (delta_speed / time)\n",
    "    return acceleration\n",
    "\n",
    "# Buat kolom baru untuk menyimpan hasil perhitungan acceleration\n",
    "particle_data[\"acceleration\"] = 0\n",
    "\n",
    "# Menggunakan loop for untuk acceleration\n",
    "for index, row in particle_data.iterrows():\n",
    "    delta_speed = row[\"delta_speed\"]\n",
    "    time = row[\"time_seconds\"]\n",
    "    acceleration = calculate_acceleration(delta_speed, time)\n",
    "    particle_data.at[index, \"acceleration\"] = acceleration    \n",
    "    \n",
    "particle_data"
   ]
  },
  {
   "cell_type": "code",
   "execution_count": 63,
   "id": "b56d40e2",
   "metadata": {},
   "outputs": [
    {
     "data": {
      "text/html": [
       "<div>\n",
       "<style scoped>\n",
       "    .dataframe tbody tr th:only-of-type {\n",
       "        vertical-align: middle;\n",
       "    }\n",
       "\n",
       "    .dataframe tbody tr th {\n",
       "        vertical-align: top;\n",
       "    }\n",
       "\n",
       "    .dataframe thead th {\n",
       "        text-align: right;\n",
       "    }\n",
       "</style>\n",
       "<table border=\"1\" class=\"dataframe\">\n",
       "  <thead>\n",
       "    <tr style=\"text-align: right;\">\n",
       "      <th></th>\n",
       "      <th>particle_id</th>\n",
       "      <th>distance_meters</th>\n",
       "      <th>time_seconds</th>\n",
       "      <th>initial_speed_mps</th>\n",
       "      <th>final_speed_mps</th>\n",
       "      <th>mass_kg</th>\n",
       "      <th>average_speed</th>\n",
       "      <th>delta_speed</th>\n",
       "      <th>acceleration</th>\n",
       "      <th>kinetic_energy</th>\n",
       "    </tr>\n",
       "  </thead>\n",
       "  <tbody>\n",
       "    <tr>\n",
       "      <th>0</th>\n",
       "      <td>1</td>\n",
       "      <td>100</td>\n",
       "      <td>10</td>\n",
       "      <td>0</td>\n",
       "      <td>20</td>\n",
       "      <td>5</td>\n",
       "      <td>10</td>\n",
       "      <td>20</td>\n",
       "      <td>2.0</td>\n",
       "      <td>1000.0</td>\n",
       "    </tr>\n",
       "    <tr>\n",
       "      <th>1</th>\n",
       "      <td>2</td>\n",
       "      <td>200</td>\n",
       "      <td>20</td>\n",
       "      <td>5</td>\n",
       "      <td>15</td>\n",
       "      <td>10</td>\n",
       "      <td>10</td>\n",
       "      <td>10</td>\n",
       "      <td>0.5</td>\n",
       "      <td>1125.0</td>\n",
       "    </tr>\n",
       "    <tr>\n",
       "      <th>2</th>\n",
       "      <td>3</td>\n",
       "      <td>150</td>\n",
       "      <td>15</td>\n",
       "      <td>10</td>\n",
       "      <td>25</td>\n",
       "      <td>7</td>\n",
       "      <td>10</td>\n",
       "      <td>15</td>\n",
       "      <td>1.0</td>\n",
       "      <td>2187.5</td>\n",
       "    </tr>\n",
       "    <tr>\n",
       "      <th>3</th>\n",
       "      <td>4</td>\n",
       "      <td>250</td>\n",
       "      <td>25</td>\n",
       "      <td>15</td>\n",
       "      <td>20</td>\n",
       "      <td>12</td>\n",
       "      <td>10</td>\n",
       "      <td>5</td>\n",
       "      <td>0.2</td>\n",
       "      <td>2400.0</td>\n",
       "    </tr>\n",
       "  </tbody>\n",
       "</table>\n",
       "</div>"
      ],
      "text/plain": [
       "   particle_id  distance_meters  time_seconds  initial_speed_mps  \\\n",
       "0            1              100            10                  0   \n",
       "1            2              200            20                  5   \n",
       "2            3              150            15                 10   \n",
       "3            4              250            25                 15   \n",
       "\n",
       "   final_speed_mps  mass_kg  average_speed  delta_speed  acceleration  \\\n",
       "0               20        5             10           20           2.0   \n",
       "1               15       10             10           10           0.5   \n",
       "2               25        7             10           15           1.0   \n",
       "3               20       12             10            5           0.2   \n",
       "\n",
       "   kinetic_energy  \n",
       "0          1000.0  \n",
       "1          1125.0  \n",
       "2          2187.5  \n",
       "3          2400.0  "
      ]
     },
     "execution_count": 63,
     "metadata": {},
     "output_type": "execute_result"
    }
   ],
   "source": [
    "#Soal 3\n",
    "def calculate_kinetic_energy (mass, final_speed):\n",
    "    kinetic_energy = (0.5 * mass * (final_speed**2))\n",
    "    return kinetic_energy\n",
    "\n",
    "# Buat kolom baru untuk menyimpan hasil perhitungan acceleration\n",
    "particle_data[\"kinetic_energy\"] = 0\n",
    "\n",
    "# Menggunakan loop for untuk acceleration\n",
    "for index, row in particle_data.iterrows():\n",
    "    mass = row[\"mass_kg\"]\n",
    "    final_speed = row[\"final_speed_mps\"]\n",
    "    kinetic_energy = calculate_kinetic_energy(mass, final_speed)\n",
    "    particle_data.at[index, \"kinetic_energy\"] = kinetic_energy    \n",
    "    \n",
    "particle_data"
   ]
  },
  {
   "cell_type": "code",
   "execution_count": 79,
   "id": "94181965",
   "metadata": {},
   "outputs": [
    {
     "data": {
      "text/html": [
       "<div>\n",
       "<style scoped>\n",
       "    .dataframe tbody tr th:only-of-type {\n",
       "        vertical-align: middle;\n",
       "    }\n",
       "\n",
       "    .dataframe tbody tr th {\n",
       "        vertical-align: top;\n",
       "    }\n",
       "\n",
       "    .dataframe thead th {\n",
       "        text-align: right;\n",
       "    }\n",
       "</style>\n",
       "<table border=\"1\" class=\"dataframe\">\n",
       "  <thead>\n",
       "    <tr style=\"text-align: right;\">\n",
       "      <th></th>\n",
       "      <th>particle_id</th>\n",
       "      <th>distance_meters</th>\n",
       "      <th>time_seconds</th>\n",
       "      <th>initial_speed_mps</th>\n",
       "      <th>final_speed_mps</th>\n",
       "      <th>mass_kg</th>\n",
       "      <th>average_speed</th>\n",
       "      <th>delta_speed</th>\n",
       "      <th>acceleration</th>\n",
       "      <th>kinetic_energy</th>\n",
       "      <th>acceleration_mps2</th>\n",
       "      <th>kinetic_energy_joule</th>\n",
       "      <th>average_speed_mps</th>\n",
       "    </tr>\n",
       "  </thead>\n",
       "  <tbody>\n",
       "    <tr>\n",
       "      <th>0</th>\n",
       "      <td>1</td>\n",
       "      <td>100</td>\n",
       "      <td>10</td>\n",
       "      <td>0</td>\n",
       "      <td>20</td>\n",
       "      <td>5</td>\n",
       "      <td>10</td>\n",
       "      <td>20</td>\n",
       "      <td>2.0</td>\n",
       "      <td>1000.0</td>\n",
       "      <td>2.0</td>\n",
       "      <td>250.0</td>\n",
       "      <td>10.0</td>\n",
       "    </tr>\n",
       "    <tr>\n",
       "      <th>1</th>\n",
       "      <td>2</td>\n",
       "      <td>200</td>\n",
       "      <td>20</td>\n",
       "      <td>5</td>\n",
       "      <td>15</td>\n",
       "      <td>10</td>\n",
       "      <td>10</td>\n",
       "      <td>10</td>\n",
       "      <td>0.5</td>\n",
       "      <td>1125.0</td>\n",
       "      <td>0.5</td>\n",
       "      <td>2000.0</td>\n",
       "      <td>10.0</td>\n",
       "    </tr>\n",
       "    <tr>\n",
       "      <th>2</th>\n",
       "      <td>3</td>\n",
       "      <td>150</td>\n",
       "      <td>15</td>\n",
       "      <td>10</td>\n",
       "      <td>25</td>\n",
       "      <td>7</td>\n",
       "      <td>10</td>\n",
       "      <td>15</td>\n",
       "      <td>1.0</td>\n",
       "      <td>2187.5</td>\n",
       "      <td>1.0</td>\n",
       "      <td>787.5</td>\n",
       "      <td>10.0</td>\n",
       "    </tr>\n",
       "    <tr>\n",
       "      <th>3</th>\n",
       "      <td>4</td>\n",
       "      <td>250</td>\n",
       "      <td>25</td>\n",
       "      <td>15</td>\n",
       "      <td>20</td>\n",
       "      <td>12</td>\n",
       "      <td>10</td>\n",
       "      <td>5</td>\n",
       "      <td>0.2</td>\n",
       "      <td>2400.0</td>\n",
       "      <td>0.2</td>\n",
       "      <td>3750.0</td>\n",
       "      <td>10.0</td>\n",
       "    </tr>\n",
       "  </tbody>\n",
       "</table>\n",
       "</div>"
      ],
      "text/plain": [
       "   particle_id  distance_meters  time_seconds  initial_speed_mps  \\\n",
       "0            1              100            10                  0   \n",
       "1            2              200            20                  5   \n",
       "2            3              150            15                 10   \n",
       "3            4              250            25                 15   \n",
       "\n",
       "   final_speed_mps  mass_kg  average_speed  delta_speed  acceleration  \\\n",
       "0               20        5             10           20           2.0   \n",
       "1               15       10             10           10           0.5   \n",
       "2               25        7             10           15           1.0   \n",
       "3               20       12             10            5           0.2   \n",
       "\n",
       "   kinetic_energy  acceleration_mps2  kinetic_energy_joule  average_speed_mps  \n",
       "0          1000.0                2.0                 250.0               10.0  \n",
       "1          1125.0                0.5                2000.0               10.0  \n",
       "2          2187.5                1.0                 787.5               10.0  \n",
       "3          2400.0                0.2                3750.0               10.0  "
      ]
     },
     "execution_count": 79,
     "metadata": {},
     "output_type": "execute_result"
    }
   ],
   "source": [
    "#Soal 4\n",
    "def average_speed(data):\n",
    "    df = data.assign(average_speed_mps=(data[\"distance_meters\"] / data[\"time_seconds\"]))\n",
    "    return df\n",
    "particle_data = average_speed(particle_data)\n",
    "\n",
    "def acceleration(data):\n",
    "    df = data.assign(acceleration_mps2=(data[\"final_speed_mps\"] - data[\"initial_speed_mps\"]) / data[\"time_seconds\"])\n",
    "    return df\n",
    "particle_data = acceleration(particle_data)\n",
    "\n",
    "def kinetic_energy(data):\n",
    "    df = data.assign(kinetic_energy_joule = (0.5 * data[\"mass_kg\"] * (data[\"time_seconds\"]**2)))\n",
    "    return df\n",
    "particle_data = kinetic_energy(particle_data)\n",
    "particle_data"
   ]
  },
  {
   "cell_type": "markdown",
   "id": "276bd2c2",
   "metadata": {},
   "source": [
    "<<>>\n",
    "\n",
    "<!-- import pandas as pd\n",
    "\n",
    "data = {\n",
    "    \"particle_id\": [1, 2, 3, 4],\n",
    "    \"distance_meters\": [100, 200, 150, 250],\n",
    "    \"time_seconds\": [10, 20, 15, 25],\n",
    "    \"initial_speed_mps\": [0, 5, 10, 15],\n",
    "    \"final_speed_mps\": [20, 15, 25, 20],\n",
    "    \"mass_kg\": [5, 10, 7, 12],\n",
    "}\n",
    "\n",
    "particle_data = pd.DataFrame(data)\n",
    "\n",
    "def acceleration(data):\n",
    "    df = data.assign(acceleration_mps2=(data[\"final_speed_mps\"] - data[\"initial_speed_mps\"]) / data[\"time_seconds\"])\n",
    "    return df\n",
    "\n",
    "particle_data = acceleration(particle_data)\n",
    "particle_data \n",
    "\n",
    "Menggunakan metode .assign(), Anda dapat menambahkan kolom baru ke DataFrame dengan menghitung percepatan berdasarkan kolom \"initial_speed_mps\", \"final_speed_mps\", dan \"time_seconds\" tanpa menggunakan loop for atau fungsi lambda-->"
   ]
  }
 ],
 "metadata": {
  "kernelspec": {
   "display_name": "Python 3 (ipykernel)",
   "language": "python",
   "name": "python3"
  },
  "language_info": {
   "codemirror_mode": {
    "name": "ipython",
    "version": 3
   },
   "file_extension": ".py",
   "mimetype": "text/x-python",
   "name": "python",
   "nbconvert_exporter": "python",
   "pygments_lexer": "ipython3",
   "version": "3.9.16"
  },
  "toc": {
   "base_numbering": 1,
   "nav_menu": {},
   "number_sections": true,
   "sideBar": true,
   "skip_h1_title": false,
   "title_cell": "Table of Contents",
   "title_sidebar": "Contents",
   "toc_cell": false,
   "toc_position": {},
   "toc_section_display": true,
   "toc_window_display": false
  }
 },
 "nbformat": 4,
 "nbformat_minor": 5
}
