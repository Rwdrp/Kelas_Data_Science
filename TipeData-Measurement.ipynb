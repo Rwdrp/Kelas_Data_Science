{
 "cells": [
  {
   "cell_type": "markdown",
   "id": "19828508",
   "metadata": {},
   "source": [
    "# Tipe & Structure"
   ]
  },
  {
   "cell_type": "markdown",
   "id": "851e6bed",
   "metadata": {},
   "source": [
    "## Data Kuantitatif\n",
    "\n",
    "Data kuantitatif adalah data yang dapat diukur dan dinyatakan dalam bentuk angka. Data kuantitatif dapat digunakan dalam perhitungan yang melibatkan angka dan nilai numerik. Berikut adalah dua jenis data kuantitatif:\n",
    "\n",
    "***Data Diskrit***: jenis data kuantitatif yang nilainya adalah angka bulat dan memiliki batasan tertentu. Misalnya, jumlah officer, jumlah uav.\n",
    "\n",
    "\n",
    "***Data Kontinu***: jenis data kuantitatif yang nilainya dapat berupa bilangan real dan bisa ada di mana saja dalam suatu rentang tertentu. Misalnya, berat badan 70.5 kg, tinggi badan 181,4cm, IPK 2,4\n",
    "\n",
    "- Data Interval: Data interval adalah data kontinu di mana perbedaan antara dua nilai bermakna, tetapi tidak ada titik nol yang berarti. Misalnya, suhu dalam derajat Celsius adalah data interval, karena perbedaan antara 30°C dan 20°C sama dengan perbedaan antara 20°C dan 10°C, tetapi 0°C bukan berarti tidak ada suhu. Dalam konteks data finansial, kita bisa membayangkan data seperti perubahan harga saham dari hari ke hari.\n",
    "\n",
    "- Data Rasio: Data rasio adalah data kontinu dengan titik nol yang berarti. Misalnya, saldo pada sebuah rekening bank adalah data rasio, karena saldo 0 berarti tidak ada uang dalam rekening tersebut.\n",
    "\n",
    "Data kontinu dapat berbentuk data interval atau data rasio, tergantung pada apakah ada titik nol yang berarti atau tidak:"
   ]
  },
  {
   "cell_type": "code",
   "execution_count": 8,
   "id": "72c475b1",
   "metadata": {},
   "outputs": [
    {
     "data": {
      "text/html": [
       "<div>\n",
       "<style scoped>\n",
       "    .dataframe tbody tr th:only-of-type {\n",
       "        vertical-align: middle;\n",
       "    }\n",
       "\n",
       "    .dataframe tbody tr th {\n",
       "        vertical-align: top;\n",
       "    }\n",
       "\n",
       "    .dataframe thead th {\n",
       "        text-align: right;\n",
       "    }\n",
       "</style>\n",
       "<table border=\"1\" class=\"dataframe\">\n",
       "  <thead>\n",
       "    <tr style=\"text-align: right;\">\n",
       "      <th></th>\n",
       "      <th>Jumlah_Transaksi</th>\n",
       "      <th>Saldo_Bank</th>\n",
       "      <th>Perubahan_Harga_Saham</th>\n",
       "    </tr>\n",
       "  </thead>\n",
       "  <tbody>\n",
       "    <tr>\n",
       "      <th>0</th>\n",
       "      <td>3</td>\n",
       "      <td>5000000.0</td>\n",
       "      <td>10.5</td>\n",
       "    </tr>\n",
       "    <tr>\n",
       "      <th>1</th>\n",
       "      <td>2</td>\n",
       "      <td>2500000.0</td>\n",
       "      <td>-2.5</td>\n",
       "    </tr>\n",
       "    <tr>\n",
       "      <th>2</th>\n",
       "      <td>1</td>\n",
       "      <td>10000000.0</td>\n",
       "      <td>5.0</td>\n",
       "    </tr>\n",
       "    <tr>\n",
       "      <th>3</th>\n",
       "      <td>0</td>\n",
       "      <td>0.0</td>\n",
       "      <td>0.0</td>\n",
       "    </tr>\n",
       "    <tr>\n",
       "      <th>4</th>\n",
       "      <td>4</td>\n",
       "      <td>3000000.0</td>\n",
       "      <td>-1.0</td>\n",
       "    </tr>\n",
       "  </tbody>\n",
       "</table>\n",
       "</div>"
      ],
      "text/plain": [
       "   Jumlah_Transaksi  Saldo_Bank  Perubahan_Harga_Saham\n",
       "0                 3   5000000.0                   10.5\n",
       "1                 2   2500000.0                   -2.5\n",
       "2                 1  10000000.0                    5.0\n",
       "3                 0         0.0                    0.0\n",
       "4                 4   3000000.0                   -1.0"
      ]
     },
     "execution_count": 8,
     "metadata": {},
     "output_type": "execute_result"
    }
   ],
   "source": [
    "import pandas as pd\n",
    "import numpy as np\n",
    "# Membuat DataFrame\n",
    "df = pd.DataFrame({\n",
    "    'Jumlah_Transaksi': [3, 2, 1, 0, 4],  # data diskrit\n",
    "    'Saldo_Bank': [5000000.0, 2500000.0, 10000000.0, 0.0, 3000000.0],  # data rasio\n",
    "    'Perubahan_Harga_Saham': [10.5, -2.5, 5.0, 0.0, -1.0]  # data interval\n",
    "})\n",
    "\n",
    "df"
   ]
  },
  {
   "cell_type": "markdown",
   "id": "b448fb68",
   "metadata": {},
   "source": [
    "Dalam contoh ini, kolom 'Jumlah_Transaksi' adalah data diskrit, kolom 'Saldo_Bank' adalah data rasio, dan kolom 'Perubahan_Harga_Saham' adalah data interval. Harap diingat bahwa interpretasi ini adalah contoh dan bisa berubah tergantung pada konteks dan cara data digunakan."
   ]
  },
  {
   "cell_type": "markdown",
   "id": "c121a0c9",
   "metadata": {},
   "source": [
    "Baik, berikut penjelasan lebih detail dan rinci tentang data univariate serta contoh penggunaannya dalam Python menggunakan pandas DataFrame.\n",
    "\n",
    "### Data Univariate\n",
    "\n",
    "Data univariate adalah jenis data yang paling sederhana, di mana setiap titik data terdiri dari satu pengukuran atau pengamatan. Artinya, dalam data univariate, kita hanya mengeksplorasi variabel secara individual. Misalnya, jika kita mengukur tinggi sekelompok orang, maka kita hanya memiliki satu variabel (tinggi), dan data ini akan menjadi data univariate.\n",
    "\n",
    "Analisis data univariate biasanya melibatkan perhitungan statistik deskriptif untuk memahami distribusi data, seperti rata-rata (mean), median, modus, standar deviasi, dan rentang (range). Selain itu, kita juga bisa membuat plot histogram atau boxplot untuk menggambarkan distribusi data.\n",
    "\n",
    "Mari kita buat contoh DataFrame menggunakan pandas untuk menunjukkan bagaimana kita bisa menganalisis data univariate."
   ]
  },
  {
   "cell_type": "code",
   "execution_count": 2,
   "id": "a6a84980",
   "metadata": {
    "scrolled": true
   },
   "outputs": [
    {
     "data": {
      "text/html": [
       "<div>\n",
       "<style scoped>\n",
       "    .dataframe tbody tr th:only-of-type {\n",
       "        vertical-align: middle;\n",
       "    }\n",
       "\n",
       "    .dataframe tbody tr th {\n",
       "        vertical-align: top;\n",
       "    }\n",
       "\n",
       "    .dataframe thead th {\n",
       "        text-align: right;\n",
       "    }\n",
       "</style>\n",
       "<table border=\"1\" class=\"dataframe\">\n",
       "  <thead>\n",
       "    <tr style=\"text-align: right;\">\n",
       "      <th></th>\n",
       "      <th>Tinggi</th>\n",
       "    </tr>\n",
       "  </thead>\n",
       "  <tbody>\n",
       "    <tr>\n",
       "      <th>0</th>\n",
       "      <td>170</td>\n",
       "    </tr>\n",
       "    <tr>\n",
       "      <th>1</th>\n",
       "      <td>165</td>\n",
       "    </tr>\n",
       "    <tr>\n",
       "      <th>2</th>\n",
       "      <td>180</td>\n",
       "    </tr>\n",
       "    <tr>\n",
       "      <th>3</th>\n",
       "      <td>175</td>\n",
       "    </tr>\n",
       "    <tr>\n",
       "      <th>4</th>\n",
       "      <td>160</td>\n",
       "    </tr>\n",
       "    <tr>\n",
       "      <th>5</th>\n",
       "      <td>155</td>\n",
       "    </tr>\n",
       "    <tr>\n",
       "      <th>6</th>\n",
       "      <td>175</td>\n",
       "    </tr>\n",
       "    <tr>\n",
       "      <th>7</th>\n",
       "      <td>165</td>\n",
       "    </tr>\n",
       "    <tr>\n",
       "      <th>8</th>\n",
       "      <td>172</td>\n",
       "    </tr>\n",
       "    <tr>\n",
       "      <th>9</th>\n",
       "      <td>167</td>\n",
       "    </tr>\n",
       "  </tbody>\n",
       "</table>\n",
       "</div>"
      ],
      "text/plain": [
       "   Tinggi\n",
       "0     170\n",
       "1     165\n",
       "2     180\n",
       "3     175\n",
       "4     160\n",
       "5     155\n",
       "6     175\n",
       "7     165\n",
       "8     172\n",
       "9     167"
      ]
     },
     "execution_count": 2,
     "metadata": {},
     "output_type": "execute_result"
    }
   ],
   "source": [
    "### Contoh dalam Python\n",
    "\n",
    "# Membuat DataFrame\n",
    "df = pd.DataFrame({\n",
    "    'Tinggi': [170, 165, 180, 175, 160, 155, 175, 165, 172, 167]\n",
    "})\n",
    "\n",
    "df"
   ]
  },
  {
   "cell_type": "markdown",
   "id": "3e1657b9",
   "metadata": {},
   "source": [
    "Dalam contoh ini, kolom 'Tinggi' adalah contoh data univariate.\n",
    "\n",
    "Untuk analisis lebih lanjut, kita bisa menggunakan berbagai metode statistik yang disediakan oleh pandas, seperti `mean()`, `median()`, `min()`, `max()`, dan `std()` (standar deviasi).\n",
    "Selain itu, kita juga bisa menggunakan metode `describe()` untuk mendapatkan ringkasan statistik dari DataFrame."
   ]
  },
  {
   "cell_type": "code",
   "execution_count": 3,
   "id": "d01be244",
   "metadata": {},
   "outputs": [
    {
     "name": "stdout",
     "output_type": "stream",
     "text": [
      "Rata-rata tinggi: 168.4\n",
      "Median tinggi: 168.5\n",
      "Standar deviasi tinggi: 7.545418035691153\n",
      "Rentang tinggi: 25\n",
      "count     10.000000\n",
      "mean     168.400000\n",
      "std        7.545418\n",
      "min      155.000000\n",
      "25%      165.000000\n",
      "50%      168.500000\n",
      "75%      174.250000\n",
      "max      180.000000\n",
      "Name: Tinggi, dtype: float64\n"
     ]
    }
   ],
   "source": [
    "print('Rata-rata tinggi:', df['Tinggi'].mean())\n",
    "print('Median tinggi:', df['Tinggi'].median())\n",
    "print('Standar deviasi tinggi:', df['Tinggi'].std())\n",
    "print('Rentang tinggi:', df['Tinggi'].max() - df['Tinggi'].min())\n",
    "print(df['Tinggi'].describe())"
   ]
  },
  {
   "cell_type": "markdown",
   "id": "1041f236",
   "metadata": {},
   "source": [
    "Dan terakhir, kita bisa menggunakan matplotlib untuk membuat histogram dari data univariate kita."
   ]
  },
  {
   "cell_type": "code",
   "execution_count": 4,
   "id": "33c9020a",
   "metadata": {},
   "outputs": [
    {
     "data": {
      "image/png": "[encoded data removed]",
      "text/plain": [
       "<Figure size 640x480 with 1 Axes>"
      ]
     },
     "metadata": {},
     "output_type": "display_data"
    }
   ],
   "source": [
    "import matplotlib.pyplot as plt\n",
    "\n",
    "plt.hist(df['Tinggi'], bins=5, edgecolor='black')\n",
    "plt.title('Distribusi Tinggi')\n",
    "plt.xlabel('Tinggi')\n",
    "plt.ylabel('Frekuensi')\n",
    "plt.show()"
   ]
  },
  {
   "cell_type": "markdown",
   "id": "a43f1b40",
   "metadata": {},
   "source": [
    "### Data Bivariate\n",
    "\n",
    "Data bivariate melibatkan dua variabel yang berbeda dan analisis ini digunakan untuk menentukan hubungan antara dua variabel tersebut. Dengan kata lain, dalam data bivariate, kita mencoba menemukan hubungan atau korelasi antara dua variabel. Analisis data bivariate dapat mencakup metode statistik seperti koefisien korelasi, analisis regresi, dan scatter plot.\n",
    "\n",
    "Misalnya, jika kita mengukur tinggi dan berat sekelompok orang, maka kita memiliki dua variabel (tinggi dan berat), dan data ini akan menjadi data bivariate. Kita mungkin tertarik untuk mengetahui apakah ada hubungan antara tinggi dan berat, misalnya apakah orang yang lebih tinggi cenderung lebih berat.\n",
    "\n",
    "Mari kita buat contoh DataFrame menggunakan pandas untuk menunjukkan bagaimana kita bisa menganalisis data bivariate."
   ]
  },
  {
   "cell_type": "code",
   "execution_count": 1,
   "id": "68069f16",
   "metadata": {},
   "outputs": [
    {
     "data": {
      "text/html": [
       "<div>\n",
       "<style scoped>\n",
       "    .dataframe tbody tr th:only-of-type {\n",
       "        vertical-align: middle;\n",
       "    }\n",
       "\n",
       "    .dataframe tbody tr th {\n",
       "        vertical-align: top;\n",
       "    }\n",
       "\n",
       "    .dataframe thead th {\n",
       "        text-align: right;\n",
       "    }\n",
       "</style>\n",
       "<table border=\"1\" class=\"dataframe\">\n",
       "  <thead>\n",
       "    <tr style=\"text-align: right;\">\n",
       "      <th></th>\n",
       "      <th>Tinggi</th>\n",
       "      <th>Berat</th>\n",
       "    </tr>\n",
       "  </thead>\n",
       "  <tbody>\n",
       "    <tr>\n",
       "      <th>0</th>\n",
       "      <td>170</td>\n",
       "      <td>70</td>\n",
       "    </tr>\n",
       "    <tr>\n",
       "      <th>1</th>\n",
       "      <td>165</td>\n",
       "      <td>65</td>\n",
       "    </tr>\n",
       "    <tr>\n",
       "      <th>2</th>\n",
       "      <td>180</td>\n",
       "      <td>75</td>\n",
       "    </tr>\n",
       "    <tr>\n",
       "      <th>3</th>\n",
       "      <td>175</td>\n",
       "      <td>72</td>\n",
       "    </tr>\n",
       "    <tr>\n",
       "      <th>4</th>\n",
       "      <td>160</td>\n",
       "      <td>60</td>\n",
       "    </tr>\n",
       "    <tr>\n",
       "      <th>5</th>\n",
       "      <td>155</td>\n",
       "      <td>58</td>\n",
       "    </tr>\n",
       "    <tr>\n",
       "      <th>6</th>\n",
       "      <td>175</td>\n",
       "      <td>73</td>\n",
       "    </tr>\n",
       "    <tr>\n",
       "      <th>7</th>\n",
       "      <td>165</td>\n",
       "      <td>65</td>\n",
       "    </tr>\n",
       "    <tr>\n",
       "      <th>8</th>\n",
       "      <td>172</td>\n",
       "      <td>70</td>\n",
       "    </tr>\n",
       "    <tr>\n",
       "      <th>9</th>\n",
       "      <td>167</td>\n",
       "      <td>66</td>\n",
       "    </tr>\n",
       "  </tbody>\n",
       "</table>\n",
       "</div>"
      ],
      "text/plain": [
       "   Tinggi  Berat\n",
       "0     170     70\n",
       "1     165     65\n",
       "2     180     75\n",
       "3     175     72\n",
       "4     160     60\n",
       "5     155     58\n",
       "6     175     73\n",
       "7     165     65\n",
       "8     172     70\n",
       "9     167     66"
      ]
     },
     "execution_count": 1,
     "metadata": {},
     "output_type": "execute_result"
    }
   ],
   "source": [
    "### Contoh dalam Python\n",
    "import pandas as pd\n",
    "\n",
    "# Membuat DataFrame\n",
    "df = pd.DataFrame({\n",
    "    'Tinggi': [170, 165, 180, 175, 160, 155, 175, 165, 172, 167],\n",
    "    'Berat': [70, 65, 75, 72, 60, 58, 73, 65, 70, 66]\n",
    "})\n",
    "\n",
    "df"
   ]
  },
  {
   "cell_type": "markdown",
   "id": "3ddf68c1",
   "metadata": {},
   "source": [
    "Dalam contoh ini, kolom 'Tinggi' dan 'Berat' adalah contoh data bivariate.\n",
    "\n",
    "Untuk analisis lebih lanjut, kita bisa menghitung koefisien korelasi antara kedua variabel menggunakan metode `corr()` dari pandas."
   ]
  },
  {
   "cell_type": "code",
   "execution_count": 2,
   "id": "3f2d69c4",
   "metadata": {},
   "outputs": [
    {
     "name": "stdout",
     "output_type": "stream",
     "text": [
      "Korelasi antara Tinggi dan Berat: 0.9903773583408356\n"
     ]
    }
   ],
   "source": [
    "print('Korelasi antara Tinggi dan Berat:', df['Tinggi'].corr(df['Berat']))\n"
   ]
  },
  {
   "cell_type": "markdown",
   "id": "9a17cf39",
   "metadata": {},
   "source": [
    "Kita juga bisa membuat scatter plot menggunakan matplotlib untuk memvisualisasikan hubungan antara 'Tinggi' dan 'Berat'."
   ]
  },
  {
   "cell_type": "code",
   "execution_count": 5,
   "id": "f30393cb",
   "metadata": {},
   "outputs": [
    {
     "data": {
      "image/png": "[encoded data removed]",
      "text/plain": [
       "<Figure size 640x480 with 1 Axes>"
      ]
     },
     "metadata": {},
     "output_type": "display_data"
    }
   ],
   "source": [
    "plt.scatter(df['Tinggi'], df['Berat'])\n",
    "plt.title('Hubungan antara Tinggi dan Berat')\n",
    "plt.xlabel('Tinggi')\n",
    "plt.ylabel('Berat')\n",
    "plt.show()"
   ]
  },
  {
   "cell_type": "markdown",
   "id": "2c983fff",
   "metadata": {},
   "source": [
    "### Data Multivariate\n",
    "\n",
    "Data multivariate melibatkan tiga variabel atau lebih. Dalam data multivariate, kita mencoba memahami bagaimana variabel saling mempengaruhi satu sama lain. Analisis data multivariate dapat mencakup teknik seperti analisis kluster, analisis faktor, regresi linier berganda, dan teknik multivariate lainnya.\n",
    "\n",
    "Misalnya, jika kita mengukur tinggi, berat, dan usia sekelompok orang, maka kita memiliki tiga variabel, dan data ini akan menjadi data multivariate. Kita mungkin tertarik untuk mengetahui hubungan antara variabel-variabel ini, seperti apakah orang yang lebih tua cenderung lebih tinggi atau lebih berat.\n",
    "\n",
    "Mari kita buat contoh DataFrame menggunakan pandas untuk menunjukkan bagaimana kita bisa menganalisis data multivariate.\n"
   ]
  },
  {
   "cell_type": "code",
   "execution_count": 11,
   "id": "890af4e5",
   "metadata": {},
   "outputs": [
    {
     "data": {
      "text/html": [
       "<div>\n",
       "<style scoped>\n",
       "    .dataframe tbody tr th:only-of-type {\n",
       "        vertical-align: middle;\n",
       "    }\n",
       "\n",
       "    .dataframe tbody tr th {\n",
       "        vertical-align: top;\n",
       "    }\n",
       "\n",
       "    .dataframe thead th {\n",
       "        text-align: right;\n",
       "    }\n",
       "</style>\n",
       "<table border=\"1\" class=\"dataframe\">\n",
       "  <thead>\n",
       "    <tr style=\"text-align: right;\">\n",
       "      <th></th>\n",
       "      <th>Tinggi</th>\n",
       "      <th>Berat</th>\n",
       "      <th>Usia</th>\n",
       "    </tr>\n",
       "  </thead>\n",
       "  <tbody>\n",
       "    <tr>\n",
       "      <th>0</th>\n",
       "      <td>170</td>\n",
       "      <td>70</td>\n",
       "      <td>30</td>\n",
       "    </tr>\n",
       "    <tr>\n",
       "      <th>1</th>\n",
       "      <td>165</td>\n",
       "      <td>65</td>\n",
       "      <td>25</td>\n",
       "    </tr>\n",
       "    <tr>\n",
       "      <th>2</th>\n",
       "      <td>180</td>\n",
       "      <td>75</td>\n",
       "      <td>35</td>\n",
       "    </tr>\n",
       "    <tr>\n",
       "      <th>3</th>\n",
       "      <td>175</td>\n",
       "      <td>72</td>\n",
       "      <td>32</td>\n",
       "    </tr>\n",
       "    <tr>\n",
       "      <th>4</th>\n",
       "      <td>160</td>\n",
       "      <td>60</td>\n",
       "      <td>28</td>\n",
       "    </tr>\n",
       "    <tr>\n",
       "      <th>5</th>\n",
       "      <td>155</td>\n",
       "      <td>58</td>\n",
       "      <td>24</td>\n",
       "    </tr>\n",
       "    <tr>\n",
       "      <th>6</th>\n",
       "      <td>175</td>\n",
       "      <td>73</td>\n",
       "      <td>33</td>\n",
       "    </tr>\n",
       "    <tr>\n",
       "      <th>7</th>\n",
       "      <td>165</td>\n",
       "      <td>65</td>\n",
       "      <td>27</td>\n",
       "    </tr>\n",
       "    <tr>\n",
       "      <th>8</th>\n",
       "      <td>172</td>\n",
       "      <td>70</td>\n",
       "      <td>31</td>\n",
       "    </tr>\n",
       "    <tr>\n",
       "      <th>9</th>\n",
       "      <td>167</td>\n",
       "      <td>66</td>\n",
       "      <td>26</td>\n",
       "    </tr>\n",
       "  </tbody>\n",
       "</table>\n",
       "</div>"
      ],
      "text/plain": [
       "   Tinggi  Berat  Usia\n",
       "0     170     70    30\n",
       "1     165     65    25\n",
       "2     180     75    35\n",
       "3     175     72    32\n",
       "4     160     60    28\n",
       "5     155     58    24\n",
       "6     175     73    33\n",
       "7     165     65    27\n",
       "8     172     70    31\n",
       "9     167     66    26"
      ]
     },
     "execution_count": 11,
     "metadata": {},
     "output_type": "execute_result"
    }
   ],
   "source": [
    "df = pd.DataFrame({\n",
    "    'Tinggi': [170, 165, 180, 175, 160, 155, 175, 165, 172, 167],\n",
    "    'Berat': [70, 65, 75, 72, 60, 58, 73, 65, 70, 66],\n",
    "    'Usia': [30, 25, 35, 32, 28, 24, 33, 27, 31, 26]\n",
    "})\n",
    "\n",
    "df"
   ]
  },
  {
   "cell_type": "markdown",
   "id": "3b701477",
   "metadata": {},
   "source": [
    "Dalam contoh ini, kolom 'Tinggi', 'Berat', dan 'Usia' adalah contoh data multivariate.\n",
    "\n",
    "Untuk analisis lebih lanjut, kita bisa menghitung matriks korelasi antara semua variabel menggunakan metode `corr()` dari pandas."
   ]
  },
  {
   "cell_type": "code",
   "execution_count": 12,
   "id": "6ccb225b",
   "metadata": {},
   "outputs": [
    {
     "data": {
      "text/html": [
       "<div>\n",
       "<style scoped>\n",
       "    .dataframe tbody tr th:only-of-type {\n",
       "        vertical-align: middle;\n",
       "    }\n",
       "\n",
       "    .dataframe tbody tr th {\n",
       "        vertical-align: top;\n",
       "    }\n",
       "\n",
       "    .dataframe thead th {\n",
       "        text-align: right;\n",
       "    }\n",
       "</style>\n",
       "<table border=\"1\" class=\"dataframe\">\n",
       "  <thead>\n",
       "    <tr style=\"text-align: right;\">\n",
       "      <th></th>\n",
       "      <th>Tinggi</th>\n",
       "      <th>Berat</th>\n",
       "      <th>Usia</th>\n",
       "    </tr>\n",
       "  </thead>\n",
       "  <tbody>\n",
       "    <tr>\n",
       "      <th>Tinggi</th>\n",
       "      <td>1.000000</td>\n",
       "      <td>0.990377</td>\n",
       "      <td>0.902385</td>\n",
       "    </tr>\n",
       "    <tr>\n",
       "      <th>Berat</th>\n",
       "      <td>0.990377</td>\n",
       "      <td>1.000000</td>\n",
       "      <td>0.883117</td>\n",
       "    </tr>\n",
       "    <tr>\n",
       "      <th>Usia</th>\n",
       "      <td>0.902385</td>\n",
       "      <td>0.883117</td>\n",
       "      <td>1.000000</td>\n",
       "    </tr>\n",
       "  </tbody>\n",
       "</table>\n",
       "</div>"
      ],
      "text/plain": [
       "          Tinggi     Berat      Usia\n",
       "Tinggi  1.000000  0.990377  0.902385\n",
       "Berat   0.990377  1.000000  0.883117\n",
       "Usia    0.902385  0.883117  1.000000"
      ]
     },
     "execution_count": 12,
     "metadata": {},
     "output_type": "execute_result"
    }
   ],
   "source": [
    "df.corr()"
   ]
  },
  {
   "cell_type": "markdown",
   "id": "3d48d814",
   "metadata": {},
   "source": [
    "Kita juga bisa membuat scatter plot matriks menggunakan library seaborn untuk memvisualisasikan hubungan antara semua variabel."
   ]
  },
  {
   "cell_type": "code",
   "execution_count": 6,
   "id": "4c57a2b6",
   "metadata": {
    "scrolled": false
   },
   "outputs": [
    {
     "data": {
      "image/png": "[encoded data removed]",
      "text/plain": [
       "<Figure size 500x500 with 6 Axes>"
      ]
     },
     "metadata": {},
     "output_type": "display_data"
    }
   ],
   "source": [
    "import seaborn as sns\n",
    "\n",
    "sns.pairplot(df)\n",
    "plt.show()"
   ]
  },
  {
   "cell_type": "markdown",
   "id": "381fc4a2",
   "metadata": {},
   "source": [
    "Dalam analisis data multivariate, kita berusaha memahami hubungan antara tiga variabel atau lebih. Ini adalah langkah yang lebih maju daripada analisis univariate dan bivariate dan memungkinkan kita untuk memahami interaksi yang lebih kompleks antara variabel."
   ]
  },
  {
   "cell_type": "markdown",
   "id": "9c96163f",
   "metadata": {},
   "source": [
    "### Data Time-Series\n",
    "\n",
    "Data time-series adalah jenis data yang diambil pada berbagai titik waktu. Ini sering kali digunakan untuk analisis tren atau peramalan di berbagai bidang, seperti ekonomi, sosial, dan sains. Dalam data time-series, urutan data sangat penting karena informasi yang ada di suatu titik waktu bisa dipengaruhi oleh data dari titik waktu sebelumnya.\n",
    "\n",
    "Misalnya, data penjualan harian suatu produk atau data cuaca harian adalah contoh dari data time-series. Pada data ini, kita mungkin ingin melihat bagaimana penjualan atau cuaca berubah seiring berjalannya waktu.\n",
    "\n",
    "Mari kita buat contoh DataFrame menggunakan pandas untuk menunjukkan bagaimana kita bisa menganalisis data time-series.\n"
   ]
  },
  {
   "cell_type": "code",
   "execution_count": 9,
   "id": "7c97997f",
   "metadata": {},
   "outputs": [
    {
     "data": {
      "text/html": [
       "<div>\n",
       "<style scoped>\n",
       "    .dataframe tbody tr th:only-of-type {\n",
       "        vertical-align: middle;\n",
       "    }\n",
       "\n",
       "    .dataframe tbody tr th {\n",
       "        vertical-align: top;\n",
       "    }\n",
       "\n",
       "    .dataframe thead th {\n",
       "        text-align: right;\n",
       "    }\n",
       "</style>\n",
       "<table border=\"1\" class=\"dataframe\">\n",
       "  <thead>\n",
       "    <tr style=\"text-align: right;\">\n",
       "      <th></th>\n",
       "      <th>Penjualan</th>\n",
       "    </tr>\n",
       "  </thead>\n",
       "  <tbody>\n",
       "    <tr>\n",
       "      <th>2023-01-01</th>\n",
       "      <td>1.764052</td>\n",
       "    </tr>\n",
       "    <tr>\n",
       "      <th>2023-01-02</th>\n",
       "      <td>0.400157</td>\n",
       "    </tr>\n",
       "    <tr>\n",
       "      <th>2023-01-03</th>\n",
       "      <td>0.978738</td>\n",
       "    </tr>\n",
       "    <tr>\n",
       "      <th>2023-01-04</th>\n",
       "      <td>2.240893</td>\n",
       "    </tr>\n",
       "    <tr>\n",
       "      <th>2023-01-05</th>\n",
       "      <td>1.867558</td>\n",
       "    </tr>\n",
       "    <tr>\n",
       "      <th>2023-01-06</th>\n",
       "      <td>-0.977278</td>\n",
       "    </tr>\n",
       "  </tbody>\n",
       "</table>\n",
       "</div>"
      ],
      "text/plain": [
       "            Penjualan\n",
       "2023-01-01   1.764052\n",
       "2023-01-02   0.400157\n",
       "2023-01-03   0.978738\n",
       "2023-01-04   2.240893\n",
       "2023-01-05   1.867558\n",
       "2023-01-06  -0.977278"
      ]
     },
     "execution_count": 9,
     "metadata": {},
     "output_type": "execute_result"
    }
   ],
   "source": [
    "# Membuat tanggal\n",
    "dates = pd.date_range('20230101', periods=6)\n",
    "\n",
    "# Membuat data acak\n",
    "np.random.seed(0)\n",
    "data = np.random.randn(6)\n",
    "\n",
    "# Membuat DataFrame\n",
    "df = pd.DataFrame(data, index=dates, columns=['Penjualan'])\n",
    "df"
   ]
  },
  {
   "cell_type": "markdown",
   "id": "7a73332e",
   "metadata": {},
   "source": [
    "Dalam contoh ini, indeks DataFrame adalah tanggal (membuatnya menjadi data time-series) dan kolom 'Penjualan' adalah penjualan harian.\n",
    "\n",
    "Untuk analisis lebih lanjut, kita bisa menggunakan berbagai metode yang disediakan oleh pandas. Misalnya, kita bisa menghitung rata-rata bergerak dengan metode `rolling()` dan `mean()`."
   ]
  },
  {
   "cell_type": "code",
   "execution_count": 10,
   "id": "5919dbd9",
   "metadata": {},
   "outputs": [
    {
     "name": "stdout",
     "output_type": "stream",
     "text": [
      "            Penjualan  Rata-rata Bergerak\n",
      "2023-01-01   1.764052                 NaN\n",
      "2023-01-02   0.400157                 NaN\n",
      "2023-01-03   0.978738            1.047649\n",
      "2023-01-04   2.240893            1.206596\n",
      "2023-01-05   1.867558            1.695730\n",
      "2023-01-06  -0.977278            1.043724\n"
     ]
    }
   ],
   "source": [
    "df['Rata-rata Bergerak'] = df['Penjualan'].rolling(window=3).mean()\n",
    "print(df)"
   ]
  },
  {
   "cell_type": "markdown",
   "id": "7e8fceb2",
   "metadata": {},
   "source": [
    "Selain itu, kita juga bisa membuat plot dari data time-series kita menggunakan matplotlib."
   ]
  },
  {
   "cell_type": "code",
   "execution_count": 13,
   "id": "d5db5799",
   "metadata": {},
   "outputs": [
    {
     "data": {
      "image/png": "[encoded data removed]",
      "text/plain": [
       "<Figure size 640x480 with 1 Axes>"
      ]
     },
     "metadata": {},
     "output_type": "display_data"
    }
   ],
   "source": [
    "plt.plot(df['Penjualan'], label='Penjualan')\n",
    "plt.plot(df['Rata-rata Bergerak'], label='Rata-rata Bergerak')\n",
    "plt.title('Penjualan Harian')\n",
    "plt.xlabel('Tanggal')\n",
    "plt.ylabel('Penjualan')\n",
    "plt.legend()\n",
    "plt.show()"
   ]
  },
  {
   "cell_type": "markdown",
   "id": "69064582",
   "metadata": {},
   "source": [
    "Dalam analisis data time-series, kita berusaha memahami bagaimana suatu variabel berubah seiring waktu. Ini sering digunakan dalam analisis tren dan peramalan."
   ]
  },
  {
   "cell_type": "markdown",
   "id": "f76b91b2",
   "metadata": {},
   "source": [
    "### Data Cross-Sectional\n",
    "\n",
    "Data cross-sectional adalah jenis data yang diambil pada suatu titik waktu tertentu. Ini sering kali digunakan untuk membandingkan berbagai entitas pada saat yang sama. Dalam data cross-sectional, urutan data biasanya tidak penting.\n",
    "\n",
    "Misalnya, data sensus penduduk adalah contoh dari data cross-sectional. Pada data ini, kita mungkin ingin melihat bagaimana distribusi penduduk berdasarkan usia, jenis kelamin, atau kategori lainnya pada suatu titik waktu.\n",
    "\n",
    "Mari kita buat contoh DataFrame menggunakan pandas untuk menunjukkan bagaimana kita bisa menganalisis data cross-sectional."
   ]
  },
  {
   "cell_type": "code",
   "execution_count": 14,
   "id": "ce144a7a",
   "metadata": {},
   "outputs": [],
   "source": [
    "### Contoh dalam Python\n",
    "\n"
   ]
  },
  {
   "cell_type": "code",
   "execution_count": 14,
   "id": "c4d5a082",
   "metadata": {},
   "outputs": [
    {
     "data": {
      "text/html": [
       "<div>\n",
       "<style scoped>\n",
       "    .dataframe tbody tr th:only-of-type {\n",
       "        vertical-align: middle;\n",
       "    }\n",
       "\n",
       "    .dataframe tbody tr th {\n",
       "        vertical-align: top;\n",
       "    }\n",
       "\n",
       "    .dataframe thead th {\n",
       "        text-align: right;\n",
       "    }\n",
       "</style>\n",
       "<table border=\"1\" class=\"dataframe\">\n",
       "  <thead>\n",
       "    <tr style=\"text-align: right;\">\n",
       "      <th></th>\n",
       "      <th>Nama</th>\n",
       "      <th>Usia</th>\n",
       "      <th>Jenis Kelamin</th>\n",
       "    </tr>\n",
       "  </thead>\n",
       "  <tbody>\n",
       "    <tr>\n",
       "      <th>0</th>\n",
       "      <td>Ali</td>\n",
       "      <td>20</td>\n",
       "      <td>Pria</td>\n",
       "    </tr>\n",
       "    <tr>\n",
       "      <th>1</th>\n",
       "      <td>Budi</td>\n",
       "      <td>25</td>\n",
       "      <td>Pria</td>\n",
       "    </tr>\n",
       "    <tr>\n",
       "      <th>2</th>\n",
       "      <td>Citra</td>\n",
       "      <td>30</td>\n",
       "      <td>Wanita</td>\n",
       "    </tr>\n",
       "    <tr>\n",
       "      <th>3</th>\n",
       "      <td>Dewi</td>\n",
       "      <td>35</td>\n",
       "      <td>Wanita</td>\n",
       "    </tr>\n",
       "    <tr>\n",
       "      <th>4</th>\n",
       "      <td>Eko</td>\n",
       "      <td>40</td>\n",
       "      <td>Pria</td>\n",
       "    </tr>\n",
       "  </tbody>\n",
       "</table>\n",
       "</div>"
      ],
      "text/plain": [
       "    Nama  Usia Jenis Kelamin\n",
       "0    Ali    20          Pria\n",
       "1   Budi    25          Pria\n",
       "2  Citra    30        Wanita\n",
       "3   Dewi    35        Wanita\n",
       "4    Eko    40          Pria"
      ]
     },
     "execution_count": 14,
     "metadata": {},
     "output_type": "execute_result"
    }
   ],
   "source": [
    "df = pd.DataFrame({\n",
    "    'Nama': ['Ali', 'Budi', 'Citra', 'Dewi', 'Eko'],\n",
    "    'Usia': [20, 25, 30, 35, 40],\n",
    "    'Jenis Kelamin': ['Pria', 'Pria', 'Wanita', 'Wanita', 'Pria']\n",
    "})\n",
    "\n",
    "df"
   ]
  },
  {
   "cell_type": "markdown",
   "id": "c042655c",
   "metadata": {},
   "source": [
    "Dalam contoh ini, setiap baris dalam DataFrame mewakili satu individu, dan kita memiliki data tentang nama, usia, dan jenis kelamin mereka. Ini adalah contoh data cross-sectional karena kita mengumpulkan data tentang berbagai individu pada saat yang sama.\n",
    "\n",
    "Untuk analisis lebih lanjut, kita bisa menggunakan berbagai metode yang disediakan oleh pandas. Misalnya, kita bisa menghitung jumlah individu berdasarkan jenis kelamin dengan metode `value_counts()`."
   ]
  },
  {
   "cell_type": "code",
   "execution_count": 15,
   "id": "67426d10",
   "metadata": {},
   "outputs": [
    {
     "name": "stdout",
     "output_type": "stream",
     "text": [
      "Pria      3\n",
      "Wanita    2\n",
      "Name: Jenis Kelamin, dtype: int64\n"
     ]
    }
   ],
   "source": [
    "print(df['Jenis Kelamin'].value_counts())"
   ]
  },
  {
   "cell_type": "markdown",
   "id": "a40edf2e",
   "metadata": {},
   "source": [
    "Kita juga bisa menghitung statistik deskriptif, seperti rata-rata dan median usia, dengan metode `mean()` dan `median()`.\n"
   ]
  },
  {
   "cell_type": "code",
   "execution_count": 16,
   "id": "6895f5e2",
   "metadata": {},
   "outputs": [
    {
     "name": "stdout",
     "output_type": "stream",
     "text": [
      "Rata-rata usia: 30.0\n",
      "Median usia: 30.0\n"
     ]
    }
   ],
   "source": [
    "print('Rata-rata usia:', df['Usia'].mean())\n",
    "print('Median usia:', df['Usia'].median())"
   ]
  },
  {
   "cell_type": "markdown",
   "id": "9740411a",
   "metadata": {},
   "source": [
    "Dalam analisis data cross-sectional, kita berusaha memahami distribusi variabel pada suatu titik waktu dan biasanya melibatkan perbandingan antara berbagai entitas."
   ]
  },
  {
   "cell_type": "markdown",
   "id": "15d5e955",
   "metadata": {},
   "source": [
    "### Data Panel / Longitudinal\n",
    "\n",
    "Data panel, juga dikenal sebagai data longitudinal, adalah jenis data di mana kita mengukur beberapa subjek pengamatan (entitas) pada beberapa titik waktu. Ini adalah gabungan dari data cross-sectional dan data time-series. Dalam data panel, kita mungkin tertarik untuk mengetahui bagaimana perubahan seiring waktu untuk berbagai subjek.\n",
    "\n",
    "Misalnya, jika kita mengukur pendapatan rumah tangga sepanjang waktu, data ini akan menjadi data panel. Di sini, kita mungkin tertarik untuk mengetahui bagaimana pendapatan berubah seiring waktu dan apakah ada perbedaan dalam pola ini antara rumah tangga yang berbeda.\n",
    "\n",
    "\n",
    "Mari kita buat contoh DataFrame menggunakan pandas untuk menunjukkan bagaimana kita bisa menganalisis data panel."
   ]
  },
  {
   "cell_type": "code",
   "execution_count": 17,
   "id": "1720707f",
   "metadata": {},
   "outputs": [
    {
     "data": {
      "text/html": [
       "<div>\n",
       "<style scoped>\n",
       "    .dataframe tbody tr th:only-of-type {\n",
       "        vertical-align: middle;\n",
       "    }\n",
       "\n",
       "    .dataframe tbody tr th {\n",
       "        vertical-align: top;\n",
       "    }\n",
       "\n",
       "    .dataframe thead th {\n",
       "        text-align: right;\n",
       "    }\n",
       "</style>\n",
       "<table border=\"1\" class=\"dataframe\">\n",
       "  <thead>\n",
       "    <tr style=\"text-align: right;\">\n",
       "      <th></th>\n",
       "      <th>Tahun</th>\n",
       "      <th>Rumah Tangga</th>\n",
       "      <th>Pendapatan</th>\n",
       "    </tr>\n",
       "  </thead>\n",
       "  <tbody>\n",
       "    <tr>\n",
       "      <th>0</th>\n",
       "      <td>2020</td>\n",
       "      <td>A</td>\n",
       "      <td>10000</td>\n",
       "    </tr>\n",
       "    <tr>\n",
       "      <th>1</th>\n",
       "      <td>2021</td>\n",
       "      <td>A</td>\n",
       "      <td>11000</td>\n",
       "    </tr>\n",
       "    <tr>\n",
       "      <th>2</th>\n",
       "      <td>2022</td>\n",
       "      <td>A</td>\n",
       "      <td>12000</td>\n",
       "    </tr>\n",
       "    <tr>\n",
       "      <th>3</th>\n",
       "      <td>2020</td>\n",
       "      <td>B</td>\n",
       "      <td>9000</td>\n",
       "    </tr>\n",
       "    <tr>\n",
       "      <th>4</th>\n",
       "      <td>2021</td>\n",
       "      <td>B</td>\n",
       "      <td>9500</td>\n",
       "    </tr>\n",
       "    <tr>\n",
       "      <th>5</th>\n",
       "      <td>2022</td>\n",
       "      <td>B</td>\n",
       "      <td>10000</td>\n",
       "    </tr>\n",
       "  </tbody>\n",
       "</table>\n",
       "</div>"
      ],
      "text/plain": [
       "   Tahun Rumah Tangga  Pendapatan\n",
       "0   2020            A       10000\n",
       "1   2021            A       11000\n",
       "2   2022            A       12000\n",
       "3   2020            B        9000\n",
       "4   2021            B        9500\n",
       "5   2022            B       10000"
      ]
     },
     "execution_count": 17,
     "metadata": {},
     "output_type": "execute_result"
    }
   ],
   "source": [
    "### Contoh dalam Python\n",
    "df = pd.DataFrame({\n",
    "    'Tahun': [2020, 2021, 2022, 2020, 2021, 2022],\n",
    "    'Rumah Tangga': ['A', 'A', 'A', 'B', 'B', 'B'],\n",
    "    'Pendapatan': [10000, 11000, 12000, 9000, 9500, 10000]\n",
    "})\n",
    "\n",
    "df"
   ]
  },
  {
   "cell_type": "markdown",
   "id": "e0490f57",
   "metadata": {},
   "source": [
    "\n",
    "Dalam contoh ini, kita memiliki data tentang pendapatan rumah tangga 'A' dan 'B' selama tiga tahun. Ini adalah contoh data panel karena kita mengumpulkan data tentang berbagai rumah tangga di berbagai titik waktu.\n",
    "\n",
    "Untuk analisis lebih lanjut, kita bisa menggunakan berbagai metode yang disediakan oleh pandas. Misalnya, kita bisa menghitung pendapatan rata-rata setiap tahun dengan metode `groupby()` dan `mean()`."
   ]
  },
  {
   "cell_type": "code",
   "execution_count": 18,
   "id": "ca32a38e",
   "metadata": {},
   "outputs": [
    {
     "name": "stdout",
     "output_type": "stream",
     "text": [
      "Tahun\n",
      "2020     9500.0\n",
      "2021    10250.0\n",
      "2022    11000.0\n",
      "Name: Pendapatan, dtype: float64\n"
     ]
    }
   ],
   "source": [
    "print(df.groupby('Tahun')['Pendapatan'].mean())"
   ]
  },
  {
   "cell_type": "markdown",
   "id": "42c10f25",
   "metadata": {},
   "source": [
    "\n",
    "Kita juga bisa membuat plot dari pendapatan setiap rumah tangga seiring waktu.\n"
   ]
  },
  {
   "cell_type": "code",
   "execution_count": 20,
   "id": "79378678",
   "metadata": {},
   "outputs": [
    {
     "data": {
      "image/png": "[encoded data removed]",
      "text/plain": [
       "<Figure size 640x480 with 1 Axes>"
      ]
     },
     "metadata": {},
     "output_type": "display_data"
    }
   ],
   "source": [
    "for name, group in df.groupby('Rumah Tangga'):\n",
    "    plt.plot(group['Tahun'], group['Pendapatan'], label=name)\n",
    "\n",
    "plt.title('Pendapatan Rumah Tangga Seiring Waktu')\n",
    "plt.xlabel('Tahun')\n",
    "plt.ylabel('Pendapatan')\n",
    "plt.legend()\n",
    "plt.show()"
   ]
  },
  {
   "cell_type": "markdown",
   "id": "9088908c",
   "metadata": {},
   "source": [
    "\n",
    "Dalam analisis data panel, kita berusaha memahami bagaimana variabel berubah seiring waktu untuk berbagai subjek. Ini memungkinkan kita untuk mengambil gambaran yang lebih lengkap daripada yang bisa kita dapatkan dari hanya analisis data cross-sectional atau data time-series."
   ]
  },
  {
   "cell_type": "markdown",
   "id": "307b8384",
   "metadata": {},
   "source": [
    "# Distribution\n",
    "\n",
    "https://www.youtube.com/watch?v=6Z8SdN52GuU"
   ]
  },
  {
   "cell_type": "markdown",
   "id": "12513361",
   "metadata": {},
   "source": [
    "## Probability Density Function (PDF)\n",
    "\n",
    "PDF adalah fungsi yang menggambarkan probabilitas relatif sebanding dengan nilai variabel acak kontinu dalam distribusi probabilitas. Intinya, PDF digunakan untuk menentukan probabilitas variabel acak kontinu berada dalam rentang tertentu.\n",
    "\n",
    "Contoh Python untuk PDF:"
   ]
  },
  {
   "cell_type": "code",
   "execution_count": 19,
   "id": "a6b4488b",
   "metadata": {},
   "outputs": [
    {
     "data": {
      "image/png": "[encoded data removed]",
      "text/plain": [
       "<Figure size 640x480 with 1 Axes>"
      ]
     },
     "metadata": {},
     "output_type": "display_data"
    }
   ],
   "source": [
    "import numpy as np\n",
    "import matplotlib.pyplot as plt\n",
    "from scipy.stats import norm\n",
    "from scipy.stats import poisson\n",
    "mu = 0\n",
    "variance = 2\n",
    "sigma = np.sqrt(variance)\n",
    "x = np.linspace(mu - 3*sigma, mu + 3*sigma, 100)\n",
    "plt.plot(x, norm.pdf(x, mu, sigma))\n",
    "plt.show()"
   ]
  },
  {
   "cell_type": "markdown",
   "id": "efe77bca",
   "metadata": {},
   "source": [
    "## Cumulative Distribution Function (CDF)\n",
    "\n",
    "CDF adalah fungsi yang menggambarkan probabilitas bahwa variabel acak X akan mengambil nilai kurang dari atau sama dengan x. Dalam kata lain, CDF memberikan probabilitas kumulatif untuk nilai tertentu.\n",
    "\n",
    "Contoh Python untuk CDF:"
   ]
  },
  {
   "cell_type": "code",
   "execution_count": 20,
   "id": "77624cd2",
   "metadata": {},
   "outputs": [
    {
     "data": {
      "image/png": "[encoded data removed]",
      "text/plain": [
       "<Figure size 640x480 with 1 Axes>"
      ]
     },
     "metadata": {},
     "output_type": "display_data"
    }
   ],
   "source": [
    "mu = 0\n",
    "variance = 2\n",
    "sigma = np.sqrt(variance)\n",
    "x = np.linspace(mu - 3*sigma, mu + 3*sigma, 100)\n",
    "plt.plot(x, norm.cdf(x, mu, sigma))\n",
    "plt.show()"
   ]
  },
  {
   "cell_type": "markdown",
   "id": "d1a480e9",
   "metadata": {},
   "source": [
    "untuk memahami bagaimana CDF (Cumulative Distribution Function) bekerja baik dengan variabel diskrit (PMF: Probability Mass Function) maupun variabel kontinu (PDF: Probability Density Function), mari kita buat plot representatif untuk keduanya."
   ]
  },
  {
   "cell_type": "code",
   "execution_count": 23,
   "id": "5aca19e2",
   "metadata": {},
   "outputs": [
    {
     "data": {
      "image/png": "[encoded data removed]",
      "text/plain": [
       "<Figure size 1200x600 with 2 Axes>"
      ]
     },
     "metadata": {},
     "output_type": "display_data"
    }
   ],
   "source": [
    "import numpy as np\n",
    "import matplotlib.pyplot as plt\n",
    "from scipy.stats import cumfreq\n",
    "\n",
    "# Membuat data\n",
    "data = np.array([1, 2, 2, 3, 4, 4, 4, 5, 5, 5, 5, 6])\n",
    "\n",
    "# Membuat PMF\n",
    "values, counts = np.unique(data, return_counts=True)\n",
    "pmf = counts / len(data)\n",
    "\n",
    "plt.figure(figsize=(12, 6))\n",
    "\n",
    "plt.subplot(1, 2, 1)\n",
    "plt.bar(values, pmf)\n",
    "plt.title('PMF')\n",
    "\n",
    "# Membuat CDF\n",
    "a = np.array(data)\n",
    "num_bins = 10\n",
    "counts, bin_edges = np.histogram(a, bins=num_bins, density=True)\n",
    "cdf = np.cumsum(counts)\n",
    "plt.subplot(1, 2, 2)\n",
    "plt.plot(bin_edges[1:], cdf/cdf[-1])\n",
    "plt.title('CDF')\n",
    "\n",
    "plt.show()"
   ]
  },
  {
   "cell_type": "markdown",
   "id": "1e7b5d8c",
   "metadata": {},
   "source": [
    "Pada plot PMF, kita bisa melihat probabilitas masing-masing nilai dalam data kita. Di sisi lain, plot CDF menunjukkan probabilitas kumulatif hingga setiap titik. Misalnya, probabilitas kumulatif bahwa X kurang dari atau sama dengan 4 adalah sekitar 0,6."
   ]
  },
  {
   "cell_type": "markdown",
   "id": "9fbd8407",
   "metadata": {},
   "source": [
    "## Probability Mass Function (PMF)\n",
    "\n",
    "PMF adalah fungsi yang memberikan probabilitas bahwa variabel acak diskrit sama dengan beberapa nilai. Variabel acak diskrit adalah variabel acak yang hanya dapat mengambil sejumlah nilai tertentu.\n",
    "\n",
    "Contoh Python untuk PMF:"
   ]
  },
  {
   "cell_type": "code",
   "execution_count": 29,
   "id": "690bd33d",
   "metadata": {},
   "outputs": [
    {
     "data": {
      "image/png": "[encoded data removed]",
      "text/plain": [
       "<Figure size 640x480 with 1 Axes>"
      ]
     },
     "metadata": {},
     "output_type": "display_data"
    }
   ],
   "source": [
    "mu = 0.6\n",
    "x = np.arange(poisson.ppf(0.01, mu), poisson.ppf(0.99, mu))\n",
    "plt.plot(x, poisson.pmf(x, mu), 'bo', ms=8, label='poisson pmf')\n",
    "plt.vlines(x, 0, poisson.pmf(x, mu), colors='b', lw=5, alpha=0.5)\n",
    "plt.show()"
   ]
  },
  {
   "cell_type": "markdown",
   "id": "978f8596",
   "metadata": {},
   "source": [
    "Ingatlah bahwa dalam PMF, kita biasanya berurusan dengan variabel acak diskrit, sedangkan dalam PDF, kita berurusan dengan variabel acak kontinu. CDF dapat digunakan untuk kedua jenis variabel ini."
   ]
  },
  {
   "cell_type": "markdown",
   "id": "5097aa4a",
   "metadata": {},
   "source": [
    "# Apa itu Skewness\n",
    "\n",
    "Skewness adalah ukuran ketidaksimetrisan dari distribusi probabilitas dari suatu variabel acak real-valued. Dalam kata-kata yang lebih sederhana, skewness adalah ukuran seberapa miring distribusi data Anda. Ukuran ini dapat digunakan untuk mendapatkan gambaran tentang bentuk distribusi data Anda.\n",
    "\n",
    "Berikut adalah penjelasan tentang Skewness:"
   ]
  },
  {
   "cell_type": "markdown",
   "id": "a6a818fb",
   "metadata": {},
   "source": [
    "## Skewness Positif dan Skewness Negatif\n",
    "\n",
    "Skewness dapat positif atau negatif, atau bahkan tidak didefinisikan:\n",
    "\n",
    "- Jika skewness lebih besar dari nol, distribusi dikatakan memiliki *skewness positif* atau miring ke kanan, artinya ekor distribusi di sebelah kanan rata-rata lebih panjang atau lebih lebar.\n",
    "- Jika skewness kurang dari nol, distribusi dikatakan memiliki *skewness negatif* atau miring ke kiri, yang berarti ekor di sebelah kiri rata-rata lebih panjang atau lebih lebar."
   ]
  },
  {
   "cell_type": "code",
   "execution_count": 34,
   "id": "0e925029",
   "metadata": {},
   "outputs": [
    {
     "name": "stdout",
     "output_type": "stream",
     "text": [
      "Skewness: 3.237742\n"
     ]
    }
   ],
   "source": [
    "# Berikut adalah contoh cara menghitung skewness dari dataset menggunakan Python dan library scipy:\n",
    "import numpy as np\n",
    "from scipy.stats import skew\n",
    "\n",
    "# Contoh untuk skewness positif\n",
    "data_positif = np.random.lognormal(size=1000)\n",
    "\n",
    "# Cetak skewness\n",
    "print(\"Skewness: %f\" % skew(data_positif))"
   ]
  },
  {
   "cell_type": "markdown",
   "id": "28419d0d",
   "metadata": {},
   "source": [
    "Jika Anda menjalankan kode ini, Anda akan melihat bahwa skewness lebih besar dari 0, yang menunjukkan skewness positif.\n",
    "\n",
    "Berikut ini adalah contoh untuk skewness negatif. Kami akan menggunakan distribusi yang telah diputar sehingga nilai-nilai yang lebih besar menjadi lebih jarang:"
   ]
  },
  {
   "cell_type": "code",
   "execution_count": 35,
   "id": "65f0ba29",
   "metadata": {},
   "outputs": [
    {
     "name": "stdout",
     "output_type": "stream",
     "text": [
      "Skewness: -3.919853\n"
     ]
    }
   ],
   "source": [
    "# Contoh untuk skewness negatif\n",
    "data_negatif = -np.random.lognormal(size=1000)\n",
    "\n",
    "# Cetak skewness\n",
    "print(\"Skewness: %f\" % skew(data_negatif))"
   ]
  },
  {
   "cell_type": "markdown",
   "id": "b840448c",
   "metadata": {},
   "source": [
    "Jika Anda menjalankan kode ini, Anda akan melihat bahwa skewness kurang dari 0, yang menunjukkan skewness negatif. \n",
    "\n",
    "Ingatlah bahwa skewness adalah ukuran asimetri dan bukan ukuran keberagaman. Artinya, Anda dapat memiliki distribusi dengan skewness nol tetapi sangat menggelembung atau sangat datar dibandingkan dengan distribusi normal."
   ]
  },
  {
   "cell_type": "markdown",
   "id": "11c7d80a",
   "metadata": {},
   "source": [
    "<img src=\"skewness.JPG\" alt=\"skewness\" width=\"650\" height=\"500\">\n",
    "<!-- ![Alt text](./skewness.JPG) -->"
   ]
  },
  {
   "cell_type": "code",
   "execution_count": 37,
   "id": "8a4aae0b",
   "metadata": {
    "scrolled": true
   },
   "outputs": [
    {
     "data": {
      "image/png": "[encoded data removed]",
      "text/plain": [
       "<Figure size 1200x600 with 2 Axes>"
      ]
     },
     "metadata": {},
     "output_type": "display_data"
    }
   ],
   "source": [
    "import numpy as np\n",
    "import matplotlib.pyplot as plt\n",
    "import seaborn as sns\n",
    "from scipy.stats import skewnorm\n",
    "\n",
    "fig, ax = plt.subplots(1, 2, figsize=(12, 6))\n",
    "\n",
    "# Membuat distribusi dengan skewness positif\n",
    "a = 4  # parameter skewness\n",
    "data = skewnorm.rvs(a, size=1000)\n",
    "\n",
    "sns.kdeplot(data, ax=ax[0], fill=True)\n",
    "ax[0].set_title('Positive Skewness')\n",
    "\n",
    "# Membuat distribusi dengan skewness negatif\n",
    "a = -4  # parameter skewness\n",
    "data = skewnorm.rvs(a, size=1000)\n",
    "\n",
    "sns.kdeplot(data, ax=ax[1], fill=True)\n",
    "ax[1].set_title('Negative Skewness')\n",
    "\n",
    "plt.show()"
   ]
  },
  {
   "cell_type": "markdown",
   "id": "04bf2a63",
   "metadata": {},
   "source": [
    "# Box & Whisker Plot\n",
    "\n",
    "<img src=\"boxplot.JPG\" alt=\"boxplot\" width=\"800\" height=\"650\">\n",
    "<!-- ![Alt text](./boxplot.JPG) -->\n",
    "\n",
    "Box and Whisker Plot (disebut juga box plot) adalah cara grafis untuk menampilkan ringkasan lima angka dari distribusi data. Lima angka ini adalah:\n",
    "\n",
    "- Minimum: Nilai terkecil dalam data set\n",
    "- Kuartil bawah (Q1): Nilai di mana 25% data di bawahnya\n",
    "- Median (Q2): Nilai tengah data set\n",
    "- Kuartil atas (Q3): Nilai di mana 75% data di bawahnya\n",
    "- Maksimum: Nilai terbesar dalam data set\n",
    "\n",
    "Box plot dibuat dengan membuat box dari Q1 ke Q3, garis di box pada median, dan garis atau \"whiskers\" dari box ke nilai minimum dan maksimum."
   ]
  },
  {
   "cell_type": "code",
   "execution_count": 47,
   "id": "33cf5598",
   "metadata": {},
   "outputs": [
    {
     "data": {
      "image/png": "[encoded data removed]",
      "text/plain": [
       "<Figure size 1000x700 with 1 Axes>"
      ]
     },
     "metadata": {},
     "output_type": "display_data"
    }
   ],
   "source": [
    "#Berikut adalah contoh pembuatan box plot dengan Python dan matplotlib:\n",
    "\n",
    "\n",
    "import matplotlib.pyplot as plt\n",
    "import numpy as np\n",
    "\n",
    "# Membuat data\n",
    "np.random.seed(10)\n",
    "data = np.random.normal(100, 20, 200)\n",
    "\n",
    "fig = plt.figure(figsize =(10, 7))\n",
    " \n",
    "# Membuat box plot\n",
    "plt.boxplot(data)\n",
    "\n",
    "# Menampilkan plot\n",
    "plt.show()"
   ]
  },
  {
   "cell_type": "markdown",
   "id": "9a2d7152",
   "metadata": {},
   "source": [
    "Dalam kode ini, kita membuat data dengan distribusi normal dengan mean 100 dan standard deviation 20. Kita kemudian membuat box plot dari data tersebut dengan fungsi `boxplot` dan menampilkan plot dengan `show`.\n",
    "\n",
    "Box plot dapat memberikan gambaran cepat tentang distribusi data dan dapat membantu mengidentifikasi pencilan. Nilai pencilan biasanya ditampilkan sebagai titik atau lingkaran di luar whiskers."
   ]
  },
  {
   "cell_type": "markdown",
   "id": "28fd1c83",
   "metadata": {},
   "source": [
    "# Ukuran Pemusatan (Measures of Central Tendency)\n",
    "https://www.youtube.com/watch?v=K2DvBDoZHXY&list=PL2O3HdJI4voGM2gNYekQcUhjGRXbahMEd&index=7\n",
    "\n",
    "   Ukuran pemusatan adalah metode statistik untuk menemukan titik tengah atau pusat data. Ada tiga ukuran pemusatan yang paling umum:\n",
    "\n",
    "   - *Mean*: Mean atau rata-rata adalah metode yang paling umum digunakan untuk menemukan pusat data. Itu dihitung dengan menjumlahkan semua nilai dalam set data dan dibagi dengan jumlah item data.\n",
    "\n",
    "   - *Median*: Median adalah nilai tengah dalam set data. Jika jumlah data adalah ganjil, median adalah nilai tengah. Jika jumlah data adalah genap, median adalah rata-rata dari dua nilai tengah.\n",
    "\n",
    "   - *Mode*: Mode adalah nilai yang paling sering muncul dalam set data. Sebuah set data mungkin memiliki satu mode, lebih dari satu mode, atau tidak ada mode sama sekali."
   ]
  },
  {
   "cell_type": "code",
   "execution_count": null,
   "id": "4fa57178",
   "metadata": {},
   "outputs": [],
   "source": [
    "import numpy as np\n",
    "\n",
    "data = np.array([4, 5, 1, 2, 7, 2, 6, 9, 3])\n",
    "\n",
    "print(\"Mean: \", np.mean(data))\n",
    "print(\"Median: \", np.median(data))\n",
    "print(\"Mode: \", np.argmax(np.bincount(data)))"
   ]
  },
  {
   "cell_type": "markdown",
   "id": "1cb01e93",
   "metadata": {},
   "source": [
    "- **Mean (Rata-rata)**\n",
    "\n",
    "   Mean dihitung dengan menjumlahkan semua nilai dalam set data dan membaginya dengan jumlah total elemen dalam set data. Dalam statistika, ini sering ditandai dengan simbol $\\mu$ (mu) untuk populasi dan $\\bar{x}$ (x-bar) untuk sampel. Jika kita memiliki `n` elemen dalam dataset dan mereka diwakili sebagai `x_1, x_2, ..., x_n`, rumus untuk mean adalah:\n",
    "\n",
    "   ![mean formula](https://latex.codecogs.com/svg.latex?\\bar{x}=\\frac{1}{n}\\sum_{i=1}^{n}x_{i})\n",
    "\n",
    "   Di sini, simbol `Σ` menunjukkan penjumlahan dan `x_i` adalah nilai setiap elemen dalam dataset.\n",
    "\n",
    "- **Median**\n",
    "\n",
    "   Median adalah nilai tengah setelah semua data diurutkan. \n",
    "\n",
    "   - Jika jumlah elemen, `n`, adalah ganjil, median adalah nilai tengah, yang dapat ditemukan menggunakan rumus:\n",
    "\n",
    "      ![median formula odd](https://latex.codecogs.com/svg.latex?\\tilde{x}=x_{\\frac{n+1}{2}})\n",
    "\n",
    "   - Jika `n` adalah genap, median adalah rata-rata dari dua nilai tengah, yang dapat ditemukan menggunakan rumus:\n",
    "\n",
    "      ![median formula even](https://latex.codecogs.com/svg.latex?\\tilde{x}=\\frac{x_{\\frac{n}{2}}+x_{\\frac{n}{2}+1}}{2})\n",
    "\n",
    "- **Mode**\n",
    "\n",
    "   Mode adalah nilai yang paling sering muncul dalam set data. Tidak ada rumus khusus untuk mode karena ini tergantung pada frekuensi nilai dalam set data. Mode adalah nilai (atau nilai) `x` yang memaksimalkan fungsi frekuensi `f(x)`, dimana `f(x)` adalah jumlah kali `x` muncul dalam dataset.\n",
    "\n",
    "Harap diperhatikan bahwa dalam konteks ini, `x_i` (dengan `i` adalah indeks) merujuk ke nilai individual dalam set data, `n` adalah jumlah total elemen dalam set data, dan `f(x)` adalah fungsi frekuensi yang memberikan frekuensi kemunculan `x` dalam set data."
   ]
  },
  {
   "cell_type": "markdown",
   "id": "b5a3d900",
   "metadata": {},
   "source": [
    "# Ukuran Penyebaran (Measures of Variance)\n",
    "https://www.youtube.com/watch?v=Xg2ITFLprg4&list=PL2O3HdJI4voGM2gNYekQcUhjGRXbahMEd&index=8\n",
    " \n",
    " Ukuran penyebaran adalah metode statistik yang menunjukkan seberapa tersebar data dalam set data. Ada beberapa ukuran penyebaran yang umum:\n",
    "\n",
    "   - *Range*: Range adalah perbedaan antara nilai maksimum dan minimum dalam set data.\n",
    "\n",
    "   - *Variance*: Variance mengukur seberapa jauh setiap angka dalam set data dari mean dan dari satu sama lain.\n",
    "\n",
    "   - *Standard Deviation*: Standard deviation adalah akar kuadrat dari variance dan mengukur seberapa jauh setiap angka dalam set data dari mean.\n",
    "\n",
    "   - *Interquartile Range (IQR)*: IQR adalah range antara quartile pertama (25th percentile) dan quartile ketiga (75th percentile)."
   ]
  },
  {
   "cell_type": "markdown",
   "id": "780ef306",
   "metadata": {},
   "source": [
    "$$x_{(\\frac{n+1}{2})}$$"
   ]
  },
  {
   "cell_type": "code",
   "execution_count": 48,
   "id": "f2d28ed9",
   "metadata": {},
   "outputs": [
    {
     "name": "stdout",
     "output_type": "stream",
     "text": [
      "Range:  8\n",
      "Variance:  6.222222222222222\n",
      "Standard Deviation:  2.494438257849294\n",
      "IQR:  4.0\n"
     ]
    }
   ],
   "source": [
    "data = np.array([4, 5, 1, 2, 7, 2, 6, 9, 3])\n",
    "\n",
    "print(\"Range: \", np.ptp(data))  # ptp = \"peak to peak\"\n",
    "print(\"Variance: \", np.var(data))\n",
    "print(\"Standard Deviation: \", np.std(data))\n",
    "   \n",
    "Q3, Q1 = np.percentile(data, [75 ,25])\n",
    "IQR = Q3 - Q1\n",
    "print(\"IQR: \", IQR)"
   ]
  },
  {
   "cell_type": "markdown",
   "id": "408fd54f",
   "metadata": {},
   "source": [
    "Dalam data science, kedua metode ini digunakan untuk memahami pola dan menyimpulkan informasi dari kumpulan data. Misalnya, mean dan median dapat memberikan gambaran umum tentang bias dalam data, sementara variance dan standard deviation dapat memberikan pemahaman tentang tingkat keragaman atau variabilitas dalam data.\n",
    "\n",
    "Penggunaan yang tepat dari metode-metode ini sangat bergantung pada konteks dan sifat data itu sendiri. Misalnya, jika data sangat condong (skewed), median mungkin menjadi ukuran pusat yang lebih baik daripada mean karena median tidak dipengaruhi oleh nilai ekstrim atau pencilan (outliers).\n",
    "\n",
    "Di sisi lain, standard deviation dan variance dapat digunakan untuk memahami sejauh mana data kita bervariasi. Jika standard deviation rendah, itu berarti sebagian besar data kita dekat dengan rata-rata. Sebaliknya, standar deviasi tinggi menunjukkan bahwa data tersebar lebih luas dari rata-rata.\n",
    "\n",
    "Berikut ini adalah contoh bagaimana kita bisa menggunakan ukuran pemusatan dan penyebaran dalam konteks data science:\n",
    "\n",
    "Misalkan kita memiliki data penjualan bulanan suatu produk. Kita bisa menggunakan mean untuk mengetahui penjualan rata-rata per bulan. Selain itu, kita bisa menggunakan mode untuk melihat bulan mana yang paling sering memiliki penjualan tertinggi.\n",
    "\n",
    "Kemudian, kita bisa menggunakan range untuk melihat seberapa besar fluktuasi penjualan dari bulan ke bulan. Variance atau standard deviation bisa digunakan untuk melihat sejauh mana penjualan tiap bulan dari rata-rata. Jika standard deviation kecil, berarti penjualan setiap bulan tidak terlalu jauh dari rata-rata. Namun, jika standar deviasi besar, berarti ada bulan-bulan di mana penjualan jauh dari rata-rata.\n",
    "\n",
    "Demikian pula, kita bisa menggunakan IQR untuk melihat penyebaran data kita dan menentukan apakah ada pencilan yang mungkin mempengaruhi rata-rata kita. Jika IQR besar, itu berarti sebagian besar data kita berada dalam range yang luas, yang mungkin menunjukkan variabilitas yang lebih besar dalam penjualan kita.\n",
    "\n",
    "Intinya, baik ukuran pemusatan dan penyebaran sangat penting dalam analisis data dan mereka saling melengkapi dalam memberikan gambaran yang komprehensif tentang data kita."
   ]
  },
  {
   "cell_type": "markdown",
   "id": "8b5fe900",
   "metadata": {},
   "source": [
    "Berikut adalah rumus matematika untuk Range, Variance, Standard Deviation, dan Interquartile Range (IQR):\n",
    "\n",
    "- **Range**\n",
    "\n",
    "   Range adalah perbedaan antara nilai maksimum dan minimum dalam set data. Jika `x_max` adalah nilai maksimum dan `x_min` adalah nilai minimum, maka range dihitung sebagai:\n",
    "\n",
    "   ![range formula](https://latex.codecogs.com/svg.latex?\\text{Range}=x_{\\text{max}}-x_{\\text{min}})\n",
    "\n",
    "- **Variance**\n",
    "\n",
    "   Variance mengukur sejauh mana setiap angka dalam set data dari mean. Untuk menghitung variance, kita mengambil setiap perbedaan antara nilai dalam set data dan mean, kuadratkan perbedaan tersebut, dan rata-ratakan. Jika kita memiliki `n` elemen dalam dataset dan mereka diwakili sebagai `x_1, x_2, ..., x_n`, dan `μ` adalah mean, maka rumus untuk variance adalah:\n",
    "\n",
    "   ![variance formula](https://latex.codecogs.com/svg.latex?\\sigma^2=\\frac{1}{n}\\sum_{i=1}^{n}(x_i-\\mu)^2)\n",
    "\n",
    "- **Standard Deviation**\n",
    "\n",
    "   Standard Deviation adalah akar kuadrat dari variance. Jadi, jika `σ²` adalah variance, maka standard deviation, `σ`, dihitung sebagai:\n",
    "\n",
    "   ![std deviation formula](https://latex.codecogs.com/svg.latex?\\sigma=\\sqrt{\\sigma^2})\n",
    "\n",
    "- **Interquartile Range (IQR)**\n",
    "\n",
    "   IQR adalah range antara quartile pertama (Q1 atau 25th percentile) dan quartile ketiga (Q3 atau 75th percentile). Jadi, jika `Q1` dan `Q3` adalah quartile pertama dan ketiga masing-masing, maka IQR dihitung sebagai:\n",
    "\n",
    "   ![iqr formula](https://latex.codecogs.com/svg.latex?\\text{IQR}=Q3-Q1)\n",
    "\n",
    "Dalam konteks ini, `x_i` (dengan `i` adalah indeks) merujuk ke nilai individual dalam set data, `n` adalah jumlah total elemen dalam set data, `μ` adalah mean dari set data, `σ²` adalah variance dari set data, `σ` adalah standard deviation dari set data, dan `Q1` dan `Q3` adalah quartile pertama dan ketiga dari set data masing-masing.\n",
    "\n",
    "- **Coefficient of Variation (CV)**: CV adalah rasio standar deviasi terhadap mean. \n",
    "\n",
    "   Formula LaTeX untuk CV:\n",
    "\n",
    "   $$\n",
    "   CV = \\frac{\\sigma}{\\mu} * 100\\%\n",
    "   $$"
   ]
  }
 ],
 "metadata": {
  "kernelspec": {
   "display_name": "Python 3 (ipykernel)",
   "language": "python",
   "name": "python3"
  },
  "language_info": {
   "codemirror_mode": {
    "name": "ipython",
    "version": 3
   },
   "file_extension": ".py",
   "mimetype": "text/x-python",
   "name": "python",
   "nbconvert_exporter": "python",
   "pygments_lexer": "ipython3",
   "version": "3.9.16"
  },
  "toc": {
   "base_numbering": 1,
   "nav_menu": {},
   "number_sections": true,
   "sideBar": true,
   "skip_h1_title": false,
   "title_cell": "Table of Contents",
   "title_sidebar": "Contents",
   "toc_cell": false,
   "toc_position": {},
   "toc_section_display": true,
   "toc_window_display": false
  }
 },
 "nbformat": 4,
 "nbformat_minor": 5
}
