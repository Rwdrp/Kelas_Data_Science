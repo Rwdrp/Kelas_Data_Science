{
 "cells": [
  {
   "cell_type": "markdown",
   "id": "616032da",
   "metadata": {},
   "source": [
    "Terdapat beberapa cara dalam membuka python, salah satunya adalah mengguanakan notepad => comand promt => ketikan python biasanya digunakan pada saat menjalankan engine atau code pytho yang perlu performa tinggi.\n",
    "\n",
    "Selain itu dapat menggunakan Idi python yang biasanya sudah ada ketika menginstall anaconda seperti jupyter notebook atau spyder. Biasanya digunakan pada saat code sudah kompleks. Kebanyakan data analis dan pelajar biasanya menggunakan jupyter notebook."
   ]
  },
  {
   "cell_type": "markdown",
   "id": "5610d1a4",
   "metadata": {},
   "source": [
    "Pada jupyter notebook terdapat cell yang digunakan untuk code dan markdown.\n",
    "\n",
    "Penggunaan markdown untuk membuat heading seperti contoh dibawah ini:"
   ]
  },
  {
   "cell_type": "markdown",
   "id": "56a5d4c2",
   "metadata": {},
   "source": [
    "# Heading 1\n",
    "## Heading 2"
   ]
  },
  {
   "cell_type": "code",
   "execution_count": 1,
   "id": "927f57fd",
   "metadata": {},
   "outputs": [
    {
     "name": "stdout",
     "output_type": "stream",
     "text": [
      "3 2.3\n"
     ]
    }
   ],
   "source": [
    "# Syntax Python\n",
    "# Python tidak memerlukan mendeklarasikan variabel, misalnya\n",
    "A = 3\n",
    "B = 2.3\n",
    "print (A,B)"
   ]
  },
  {
   "cell_type": "markdown",
   "id": "d15ed3fc",
   "metadata": {},
   "source": [
    "Pada jupyter notebook ketika variabel A dan B setelah dijalankan dihapus kemudian dilakukan perintah print (A,B) maka akan muncul kembali karena masih tersimpan dalam memori komputer."
   ]
  },
  {
   "cell_type": "code",
   "execution_count": 2,
   "id": "7b14515f",
   "metadata": {},
   "outputs": [
    {
     "name": "stdout",
     "output_type": "stream",
     "text": [
      "3\n",
      "2.3\n"
     ]
    }
   ],
   "source": [
    "print (A)\n",
    "print (B)\n",
    "\n",
    "# Hasilnya akan ganti baris"
   ]
  },
  {
   "cell_type": "code",
   "execution_count": 3,
   "id": "a5b9da59",
   "metadata": {},
   "outputs": [
    {
     "name": "stdout",
     "output_type": "stream",
     "text": [
      "3,2.3\n"
     ]
    }
   ],
   "source": [
    "print (A, end=',')\n",
    "print (B)\n",
    "\n",
    "#Memisahkan dengan koma dalam satu baris"
   ]
  },
  {
   "cell_type": "markdown",
   "id": "279cb34c",
   "metadata": {},
   "source": [
    "Kelebihan python biasanya menggunakan indenting dan bukan tanda kurung seperti bahasa pemrograman yang lain. Hal ini tentu akan mempermudah user ketika melakukan pemrograman supaya lebih rapi dan terdokumentasi dengan baik. Selain itu indenting juga digunakan untuk menandakan penggunaan rumus if, for atau while."
   ]
  },
  {
   "cell_type": "code",
   "execution_count": 4,
   "id": "bb01b142",
   "metadata": {},
   "outputs": [
    {
     "name": "stdout",
     "output_type": "stream",
     "text": [
      "ini pasti kurang dari 10\n"
     ]
    }
   ],
   "source": [
    "if (A>10):\n",
    "    print('ini lebih dari 10')\n",
    "    print('ini pasti lebih dari 10')\n",
    "print('ini pasti kurang dari 10')"
   ]
  },
  {
   "cell_type": "code",
   "execution_count": 5,
   "id": "c9bdfec3",
   "metadata": {},
   "outputs": [
    {
     "name": "stdout",
     "output_type": "stream",
     "text": [
      "Ini pasti orang\n",
      "Ini pasti manusia\n",
      "Ini 'pasti'manusia\n",
      "Ini \"pasti\" manusia\n"
     ]
    }
   ],
   "source": [
    "# String di python boleh menggunakan singe quote ataupun double quote\n",
    "print('Ini pasti orang')\n",
    "print(\"Ini pasti manusia\")\n",
    "print(\"Ini 'pasti'manusia\")\n",
    "print(\"Ini \\\"pasti\\\" manusia\")"
   ]
  },
  {
   "cell_type": "markdown",
   "id": "e79c45ae",
   "metadata": {},
   "source": [
    "Python mirip java atau C++ yang mengenal fungsi-fungsi dasar. Perlu mengimpor atau load fungsi-fungsi yang kompleks."
   ]
  },
  {
   "cell_type": "code",
   "execution_count": 6,
   "id": "68119983",
   "metadata": {},
   "outputs": [
    {
     "ename": "NameError",
     "evalue": "name 'sin' is not defined",
     "output_type": "error",
     "traceback": [
      "\u001b[1;31m---------------------------------------------------------------------------\u001b[0m",
      "\u001b[1;31mNameError\u001b[0m                                 Traceback (most recent call last)",
      "Cell \u001b[1;32mIn[6], line 1\u001b[0m\n\u001b[1;32m----> 1\u001b[0m \u001b[43msin\u001b[49m(\u001b[38;5;241m30\u001b[39m)\n",
      "\u001b[1;31mNameError\u001b[0m: name 'sin' is not defined"
     ]
    }
   ],
   "source": [
    "sin(30)"
   ]
  },
  {
   "cell_type": "code",
   "execution_count": 7,
   "id": "1895fc56",
   "metadata": {},
   "outputs": [
    {
     "data": {
      "text/plain": [
       "-0.9880316240928618"
      ]
     },
     "execution_count": 7,
     "metadata": {},
     "output_type": "execute_result"
    }
   ],
   "source": [
    "#Error karena python belum mengenali funsi tersebut, perlu impor modul terlebih dahulu\n",
    "import math as M\n",
    "M.sin(30)"
   ]
  },
  {
   "cell_type": "code",
   "execution_count": null,
   "id": "d5f934ca",
   "metadata": {},
   "outputs": [],
   "source": [
    "# Melakukan import beberapa modul sekaligus\n",
    "import numpy as np, pandas as pd"
   ]
  },
  {
   "cell_type": "code",
   "execution_count": 8,
   "id": "31965ea6",
   "metadata": {},
   "outputs": [
    {
     "data": {
      "text/plain": [
       "float"
      ]
     },
     "execution_count": 8,
     "metadata": {},
     "output_type": "execute_result"
    }
   ],
   "source": [
    "# Cara mengetahui type data dari suatu variabel\n",
    "a = 2\n",
    "b = 2.0\n",
    "c = 2.99\n",
    "d = 'oke'\n",
    "type (b)"
   ]
  },
  {
   "cell_type": "code",
   "execution_count": 9,
   "id": "7b9eed06",
   "metadata": {},
   "outputs": [
    {
     "data": {
      "text/plain": [
       "['__abs__',\n",
       " '__add__',\n",
       " '__bool__',\n",
       " '__ceil__',\n",
       " '__class__',\n",
       " '__delattr__',\n",
       " '__dir__',\n",
       " '__divmod__',\n",
       " '__doc__',\n",
       " '__eq__',\n",
       " '__float__',\n",
       " '__floor__',\n",
       " '__floordiv__',\n",
       " '__format__',\n",
       " '__ge__',\n",
       " '__getattribute__',\n",
       " '__getformat__',\n",
       " '__getnewargs__',\n",
       " '__gt__',\n",
       " '__hash__',\n",
       " '__init__',\n",
       " '__init_subclass__',\n",
       " '__int__',\n",
       " '__le__',\n",
       " '__lt__',\n",
       " '__mod__',\n",
       " '__mul__',\n",
       " '__ne__',\n",
       " '__neg__',\n",
       " '__new__',\n",
       " '__pos__',\n",
       " '__pow__',\n",
       " '__radd__',\n",
       " '__rdivmod__',\n",
       " '__reduce__',\n",
       " '__reduce_ex__',\n",
       " '__repr__',\n",
       " '__rfloordiv__',\n",
       " '__rmod__',\n",
       " '__rmul__',\n",
       " '__round__',\n",
       " '__rpow__',\n",
       " '__rsub__',\n",
       " '__rtruediv__',\n",
       " '__setattr__',\n",
       " '__setformat__',\n",
       " '__sizeof__',\n",
       " '__str__',\n",
       " '__sub__',\n",
       " '__subclasshook__',\n",
       " '__truediv__',\n",
       " '__trunc__',\n",
       " 'as_integer_ratio',\n",
       " 'conjugate',\n",
       " 'fromhex',\n",
       " 'hex',\n",
       " 'imag',\n",
       " 'is_integer',\n",
       " 'real']"
      ]
     },
     "execution_count": 9,
     "metadata": {},
     "output_type": "execute_result"
    }
   ],
   "source": [
    "# Untuk mengetahui fungsi-fungsi yang bisa digunakan oleh suatu variabel\n",
    "dir(b)"
   ]
  },
  {
   "cell_type": "markdown",
   "id": "0b493648",
   "metadata": {},
   "source": [
    "Juggling variabel (perubahan variabel ditengah code) tidak disarankan dalam data science karena tidak efisien dalam mangement memori."
   ]
  },
  {
   "cell_type": "code",
   "execution_count": 10,
   "id": "25afd775",
   "metadata": {},
   "outputs": [
    {
     "name": "stdout",
     "output_type": "stream",
     "text": [
      "<class 'int'>\n"
     ]
    },
    {
     "data": {
      "text/plain": [
       "(6.0, float)"
      ]
     },
     "execution_count": 10,
     "metadata": {},
     "output_type": "execute_result"
    }
   ],
   "source": [
    "#Contoh juggling variabel\n",
    "a = 30\n",
    "print(type(a))\n",
    "a = a/5\n",
    "a, type(a)\n",
    "\n",
    "# Terdapat perubahan dari int menjadi float"
   ]
  },
  {
   "cell_type": "code",
   "execution_count": 11,
   "id": "fe5d6eae",
   "metadata": {},
   "outputs": [
    {
     "name": "stdout",
     "output_type": "stream",
     "text": [
      "<class 'float'>\n"
     ]
    },
    {
     "data": {
      "text/plain": [
       "(6.0, float)"
      ]
     },
     "execution_count": 11,
     "metadata": {},
     "output_type": "execute_result"
    }
   ],
   "source": [
    "#Contoh meminimalisir juggling variabel\n",
    "b = 30.00\n",
    "print(type(b))\n",
    "b = b/5.00\n",
    "b, type(b)"
   ]
  },
  {
   "cell_type": "code",
   "execution_count": 12,
   "id": "92ef995e",
   "metadata": {},
   "outputs": [
    {
     "data": {
      "text/plain": [
       "3"
      ]
     },
     "execution_count": 12,
     "metadata": {},
     "output_type": "execute_result"
    }
   ],
   "source": [
    "# List, index pada python dimulai dari 0\n",
    "\n",
    "L = [1, 2, 3, 4]\n",
    "L[2]\n",
    "\n",
    "# Index ketiga dari L adalah 3"
   ]
  },
  {
   "cell_type": "code",
   "execution_count": 13,
   "id": "b50f97fd",
   "metadata": {},
   "outputs": [
    {
     "data": {
      "text/plain": [
       "[1, 2]"
      ]
     },
     "execution_count": 13,
     "metadata": {},
     "output_type": "execute_result"
    }
   ],
   "source": [
    "# Melakukan slicing (memotong/memilah) pada element list\n",
    "L[:2]\n",
    "\n",
    "# Memilih 2 element pertama dari List"
   ]
  },
  {
   "cell_type": "code",
   "execution_count": 14,
   "id": "14d7b2d3",
   "metadata": {},
   "outputs": [
    {
     "data": {
      "text/plain": [
       "[3, 4]"
      ]
     },
     "execution_count": 14,
     "metadata": {},
     "output_type": "execute_result"
    }
   ],
   "source": [
    "# Melakukan slicing (memotong/memilah) pada element list\n",
    "L[-2:]\n",
    "\n",
    "# Memilih 2 element terakhir dari List"
   ]
  },
  {
   "cell_type": "code",
   "execution_count": 15,
   "id": "3c602504",
   "metadata": {},
   "outputs": [
    {
     "data": {
      "text/plain": [
       "[2, 3]"
      ]
     },
     "execution_count": 15,
     "metadata": {},
     "output_type": "execute_result"
    }
   ],
   "source": [
    "# Melakukan slicing (memotong/memilah) pada element list\n",
    "L[1:3]\n",
    "\n",
    "# Memilih dari indeks pertama sampai element ketiga"
   ]
  },
  {
   "cell_type": "code",
   "execution_count": 16,
   "id": "2e4da911",
   "metadata": {},
   "outputs": [
    {
     "data": {
      "text/plain": [
       "[1, 50, 3, 4]"
      ]
     },
     "execution_count": 16,
     "metadata": {},
     "output_type": "execute_result"
    }
   ],
   "source": [
    "# Merubah nilai dalam suatu list\n",
    "L[1] = 50\n",
    "L\n",
    "# Merubah indeks pertama dengan nilai 50"
   ]
  },
  {
   "cell_type": "code",
   "execution_count": 17,
   "id": "df40e578",
   "metadata": {},
   "outputs": [
    {
     "data": {
      "text/plain": [
       "(41, 42, 43)"
      ]
     },
     "execution_count": 17,
     "metadata": {},
     "output_type": "execute_result"
    }
   ],
   "source": [
    "# Tupple ditandai dengan kurung biasa () - immutable (tidak bisa diubah).  \n",
    "\n",
    "T = ( 41, 42, 43, 44)\n",
    "T[:3]"
   ]
  },
  {
   "cell_type": "markdown",
   "id": "967274e0",
   "metadata": {},
   "source": [
    "Tupple lebih cepat sehingga memakan memori yang lebih sedikit. Biasanya digunakan untuk data-data konstan yang tidak berubah.\n",
    "List untuk sesuatu nilai yang kemungkinan akan berubah.\n",
    "Contoh fungsi yang bisa digunakan di List tetapi tidak bisa digunakan pada Tupple sebagai berikut:"
   ]
  },
  {
   "cell_type": "code",
   "execution_count": 18,
   "id": "cc44748c",
   "metadata": {},
   "outputs": [
    {
     "data": {
      "text/plain": [
       "[18, 22, 24, 54]"
      ]
     },
     "execution_count": 18,
     "metadata": {},
     "output_type": "execute_result"
    }
   ],
   "source": [
    "L = [54, 22, 18, 24]\n",
    "L.sort()\n",
    "L"
   ]
  },
  {
   "cell_type": "code",
   "execution_count": 19,
   "id": "f538df09",
   "metadata": {},
   "outputs": [
    {
     "ename": "AttributeError",
     "evalue": "'tuple' object has no attribute 'sort'",
     "output_type": "error",
     "traceback": [
      "\u001b[1;31m---------------------------------------------------------------------------\u001b[0m",
      "\u001b[1;31mAttributeError\u001b[0m                            Traceback (most recent call last)",
      "Cell \u001b[1;32mIn[19], line 2\u001b[0m\n\u001b[0;32m      1\u001b[0m T \u001b[38;5;241m=\u001b[39m (\u001b[38;5;241m54\u001b[39m, \u001b[38;5;241m22\u001b[39m, \u001b[38;5;241m18\u001b[39m, \u001b[38;5;241m24\u001b[39m)\n\u001b[1;32m----> 2\u001b[0m \u001b[43mT\u001b[49m\u001b[38;5;241;43m.\u001b[39;49m\u001b[43msort\u001b[49m()\n\u001b[0;32m      3\u001b[0m T\n",
      "\u001b[1;31mAttributeError\u001b[0m: 'tuple' object has no attribute 'sort'"
     ]
    }
   ],
   "source": [
    "T = (54, 22, 18, 24)\n",
    "T.sort()\n",
    "T\n",
    "\n",
    "# Akan terjadi error"
   ]
  },
  {
   "cell_type": "markdown",
   "id": "172a20b6",
   "metadata": {},
   "source": [
    "List python bukan array, dimana bisa memasukan berbagai macam type data."
   ]
  },
  {
   "cell_type": "code",
   "execution_count": 20,
   "id": "fb64b140",
   "metadata": {},
   "outputs": [
    {
     "data": {
      "text/plain": [
       "[True, 'Aku manusia', 2.0, 1]"
      ]
     },
     "execution_count": 20,
     "metadata": {},
     "output_type": "execute_result"
    }
   ],
   "source": [
    "AB = [True, 'Aku manusia', 2.0, 1]\n",
    "AB"
   ]
  },
  {
   "cell_type": "code",
   "execution_count": 21,
   "id": "ddad1580",
   "metadata": {},
   "outputs": [
    {
     "name": "stdout",
     "output_type": "stream",
     "text": [
      "[3, 4, 6, 90, 80]\n",
      "[91, 92, 93, 94, 95, 96]\n",
      "[3, 4, 6, 90, 80, 91, 92, 93, 94, 95, 96]\n"
     ]
    }
   ],
   "source": [
    "#Menambahkan data pada List\n",
    "\n",
    "AB = [3, 4, 6, 90]\n",
    "AB.append(80)\n",
    "print(AB)\n",
    "\n",
    "AC = [91, 92, 93]\n",
    "AC.extend([94, 95, 96])\n",
    "print(AC)\n",
    "\n",
    "D = AB + AC\n",
    "print(D)\n",
    "# Hanya menambahkan data saja tidak melakukan operasi hitungan"
   ]
  },
  {
   "cell_type": "code",
   "execution_count": 22,
   "id": "86424ae5",
   "metadata": {},
   "outputs": [
    {
     "data": {
      "text/plain": [
       "[90, 91, 93, 94]"
      ]
     },
     "execution_count": 22,
     "metadata": {},
     "output_type": "execute_result"
    }
   ],
   "source": [
    "# Menghapus salah satu index dalam list\n",
    "List = [90, 91, 92, 93, 94]\n",
    "del List[2]\n",
    "List\n",
    "\n",
    "# Menghapus index ketiga dalam list"
   ]
  },
  {
   "cell_type": "markdown",
   "id": "4a8c6d9c",
   "metadata": {},
   "source": [
    "Himpunan berbeda dengan list dan tupple, himpunan tidak akan menuliskan nilai yang sama."
   ]
  },
  {
   "cell_type": "code",
   "execution_count": 23,
   "id": "5c9313d1",
   "metadata": {},
   "outputs": [
    {
     "data": {
      "text/plain": [
       "{1, 2, 3, 4, 5}"
      ]
     },
     "execution_count": 23,
     "metadata": {},
     "output_type": "execute_result"
    }
   ],
   "source": [
    "H = {1, 2, 2, 3, 4, 5, 5}\n",
    "H"
   ]
  },
  {
   "cell_type": "code",
   "execution_count": 24,
   "id": "1a8328bd",
   "metadata": {},
   "outputs": [
    {
     "ename": "TypeError",
     "evalue": "'set' object is not subscriptable",
     "output_type": "error",
     "traceback": [
      "\u001b[1;31m---------------------------------------------------------------------------\u001b[0m",
      "\u001b[1;31mTypeError\u001b[0m                                 Traceback (most recent call last)",
      "Cell \u001b[1;32mIn[24], line 2\u001b[0m\n\u001b[0;32m      1\u001b[0m \u001b[38;5;66;03m# Himpunan juga tidak memiliki index, maka hasilnya akan error\u001b[39;00m\n\u001b[1;32m----> 2\u001b[0m \u001b[43mH\u001b[49m\u001b[43m[\u001b[49m\u001b[38;5;241;43m1\u001b[39;49m\u001b[43m]\u001b[49m\n",
      "\u001b[1;31mTypeError\u001b[0m: 'set' object is not subscriptable"
     ]
    }
   ],
   "source": [
    "# Himpunan juga tidak memiliki index, maka hasilnya akan error\n",
    "H[1]"
   ]
  },
  {
   "cell_type": "code",
   "execution_count": 25,
   "id": "98d920d2",
   "metadata": {},
   "outputs": [
    {
     "data": {
      "text/plain": [
       "False"
      ]
     },
     "execution_count": 25,
     "metadata": {},
     "output_type": "execute_result"
    }
   ],
   "source": [
    "# Cara mengakses himpunan\n",
    "Jumlah = {1, 2, 2, 3, 4, 5, 5}\n",
    "6 in Jumlah"
   ]
  },
  {
   "cell_type": "code",
   "execution_count": 26,
   "id": "6e6eb1cd",
   "metadata": {},
   "outputs": [
    {
     "data": {
      "text/plain": [
       "True"
      ]
     },
     "execution_count": 26,
     "metadata": {},
     "output_type": "execute_result"
    }
   ],
   "source": [
    "5 in Jumlah"
   ]
  },
  {
   "cell_type": "code",
   "execution_count": 27,
   "id": "208199aa",
   "metadata": {},
   "outputs": [
    {
     "data": {
      "text/plain": [
       "{2, 3, 4, 5, 9, 67}"
      ]
     },
     "execution_count": 27,
     "metadata": {},
     "output_type": "execute_result"
    }
   ],
   "source": [
    "# Menambahkan element ke dalam himpunan\n",
    "Jumlah = {9, 2, 2, 3, 4, 5, 5}\n",
    "Jumlah.add(67)\n",
    "Jumlah"
   ]
  },
  {
   "cell_type": "code",
   "execution_count": 28,
   "id": "962cb35f",
   "metadata": {},
   "outputs": [
    {
     "data": {
      "text/plain": [
       "100"
      ]
     },
     "execution_count": 28,
     "metadata": {},
     "output_type": "execute_result"
    }
   ],
   "source": [
    "# Dictionary mirip seperti List tetapi indeksnya terserah oleh user.\n",
    "D = {'a':100, 'b':200, 'c':300}\n",
    "D['a']"
   ]
  },
  {
   "cell_type": "markdown",
   "id": "f8512342",
   "metadata": {},
   "source": [
    "Conditional statement\n",
    "IF biasanya digunakan untuk mempartisi tindakan (benar atau salah) => perlu ada syarat untuk menjalankannya. Secara umum bentuk percabangannya sebagai berikut:\n",
    "\n",
    "IF (Statement 1):\n",
    "   Action(s) 1\n",
    "ELSE IF (Statement 2):\n",
    "   Action(s) 2\n",
    ".\n",
    ".\n",
    "ELSE:\n",
    "   Action(s) N"
   ]
  },
  {
   "cell_type": "markdown",
   "id": "1aa912c2",
   "metadata": {},
   "source": [
    "Secara algoritma penggunaan kondisi IF sebaiknya bernilai bolean"
   ]
  },
  {
   "cell_type": "markdown",
   "id": "88fede22",
   "metadata": {},
   "source": [
    "Dalam logika IF memiliki hierarki atau tingkatan dalam codenya. Contohnya:\n",
    "\n",
    "if (n>5)\n",
    "    tindakan 1\n",
    "else if (n>3)\n",
    "    tindakan 2\n",
    "else\n",
    "    tindakan 3"
   ]
  },
  {
   "cell_type": "code",
   "execution_count": 35,
   "id": "bb258df4",
   "metadata": {},
   "outputs": [
    {
     "name": "stdout",
     "output_type": "stream",
     "text": [
      "nilai = -13\n",
      "nilai tersebut bilangan negatif\n"
     ]
    }
   ],
   "source": [
    "nilai = int(input('nilai = '))\n",
    "nilai\n",
    "\n",
    "if nilai>0:\n",
    "    print('nilai tersebut bilangan positif')\n",
    "elif nilai==0:\n",
    "    print('nilai = 0')\n",
    "else:\n",
    "    print('nilai tersebut bilangan negatif')"
   ]
  },
  {
   "cell_type": "markdown",
   "id": "0d793485",
   "metadata": {},
   "source": [
    "Logika untuk kondisi if tidak harus kondisi bolean (Bolean Trap)"
   ]
  },
  {
   "cell_type": "markdown",
   "id": "cfacf12d",
   "metadata": {},
   "source": [
    "Catch error untuk user tentu akan berbeda dengan progammer, hal ini akan menentukan bagaimana program itu dibuat."
   ]
  },
  {
   "cell_type": "code",
   "execution_count": 37,
   "id": "5cc443ca",
   "metadata": {},
   "outputs": [
    {
     "name": "stdout",
     "output_type": "stream",
     "text": [
      "Tolong masukan angka interger = Ruwanda\n",
      "Sepertinya yang anda masukan salah\n"
     ]
    }
   ],
   "source": [
    "# Contoh catch error yang sebaiknya untuk user\n",
    "try:\n",
    "    n = int(input(\"Tolong masukan angka interger = \"))\n",
    "    print(\"Oke sudah benar\")\n",
    "except:\n",
    "    print(\"Sepertinya yang anda masukan salah\")\n",
    "    \n",
    "# Dengan code ini tidak diketahui errornya pada bagian mana,jika user memasukan datanya salah"
   ]
  },
  {
   "cell_type": "code",
   "execution_count": 39,
   "id": "afea9c26",
   "metadata": {},
   "outputs": [
    {
     "name": "stdout",
     "output_type": "stream",
     "text": [
      "Tolong masukan angka interger = Ruwanda\n",
      "Error :  invalid literal for int() with base 10: 'Ruwanda'\n"
     ]
    }
   ],
   "source": [
    "# Contoh catch error (Try except)\n",
    "try:\n",
    "    n = int(input(\"Tolong masukan angka interger = \"))\n",
    "    print(\"Oke sudah benar\")\n",
    "except Exception as error:\n",
    "    print('Error : ', error)"
   ]
  },
  {
   "cell_type": "markdown",
   "id": "00a4e706",
   "metadata": {},
   "source": [
    "Dari data tersebut maka akan diketahui oleh programmer salahnya dimana. Hal ini akan sangat berguna pada saat production level, program akan terus berjalan dan error akan diakumulasi (akan diperbaiki nanti)."
   ]
  },
  {
   "cell_type": "markdown",
   "id": "1c4b9720",
   "metadata": {},
   "source": [
    "Loop di python => digunakan untuk melakukan sesuatu berulang-ulang. "
   ]
  },
  {
   "cell_type": "code",
   "execution_count": 40,
   "id": "a6dc95c8",
   "metadata": {},
   "outputs": [
    {
     "data": {
      "text/plain": [
       "range(0, 5)"
      ]
     },
     "execution_count": 40,
     "metadata": {},
     "output_type": "execute_result"
    }
   ],
   "source": [
    "range(5)"
   ]
  },
  {
   "cell_type": "code",
   "execution_count": 41,
   "id": "3a7f3adb",
   "metadata": {},
   "outputs": [
    {
     "data": {
      "text/plain": [
       "[0, 1, 2, 3, 4]"
      ]
     },
     "execution_count": 41,
     "metadata": {},
     "output_type": "execute_result"
    }
   ],
   "source": [
    "list(range(5))"
   ]
  },
  {
   "cell_type": "code",
   "execution_count": 48,
   "id": "549f053d",
   "metadata": {},
   "outputs": [
    {
     "data": {
      "text/plain": [
       "12"
      ]
     },
     "execution_count": 48,
     "metadata": {},
     "output_type": "execute_result"
    }
   ],
   "source": [
    "a = 0\n",
    "for i in range(6):\n",
    "    a = a + 2\n",
    "a"
   ]
  },
  {
   "cell_type": "markdown",
   "id": "be38dba4",
   "metadata": {},
   "source": [
    "Loop akan dijalankan 6 kali dengan setiap perulangan ditambahkan 2\n",
    "Iterasi pertama 0 + 2 = 2\n",
    "Iterasi kedua 2 + 2 = 4\n",
    ". . .\n",
    "Iterasi keeenam 10 + 2 = 12"
   ]
  },
  {
   "cell_type": "code",
   "execution_count": 49,
   "id": "6915054d",
   "metadata": {},
   "outputs": [
    {
     "name": "stdout",
     "output_type": "stream",
     "text": [
      "becak\n",
      "motor\n",
      "mobil\n",
      "pesawat\n"
     ]
    }
   ],
   "source": [
    "# Dalam loop python juga boleh menggunakan suatu list/array\n",
    "\n",
    "kendaraan = ['becak', 'motor', 'mobil', 'pesawat']\n",
    "\n",
    "for x in kendaraan:\n",
    "    print(x)"
   ]
  },
  {
   "cell_type": "code",
   "execution_count": 50,
   "id": "1adb6bd2",
   "metadata": {},
   "outputs": [
    {
     "name": "stdout",
     "output_type": "stream",
     "text": [
      "0 becak\n",
      "1 motor\n",
      "2 mobil\n",
      "3 pesawat\n"
     ]
    }
   ],
   "source": [
    "# Untuk menambahkan indeks dalam list menggunakan loop\n",
    "# Bisa digunakan apabila membutuhkan nilai indeks untuk mengganti data dalam suatu list\n",
    "for i,x in enumerate(kendaraan):\n",
    "    print(i, x)"
   ]
  },
  {
   "cell_type": "code",
   "execution_count": 55,
   "id": "8d4bfca8",
   "metadata": {},
   "outputs": [
    {
     "name": "stdout",
     "output_type": "stream",
     "text": [
      "[55, 45, 40, 41, 38, 30, 24, 17, 9, -2, -30]\n",
      "[0.01818181818181818, 0.022222222222222223, 0.025, 0.024390243902439025, 0.02631578947368421, 0.03333333333333333, 0.041666666666666664, 0.058823529411764705, 0.1111111111111111, -0.5, -0.03333333333333333]\n"
     ]
    }
   ],
   "source": [
    "# Salah satu cara invers transformasi suatu data\n",
    "A = [55,45,40,41,38,30,24,17,9,-2,-30]\n",
    "B = [] # menginisiasi array (list) kosong\n",
    "for data in A:\n",
    "    B.append(1/data)  # append digunakan untuk menambahkan element ke suatu array\n",
    "print(A)\n",
    "print(B)"
   ]
  },
  {
   "cell_type": "markdown",
   "id": "1ea7be42",
   "metadata": {},
   "source": [
    "Cara diatas kurang baik karena memakan memory. Jika A terlalu banyak (big data) maka volume akan besar dan akan mengcopy memory."
   ]
  },
  {
   "cell_type": "code",
   "execution_count": 56,
   "id": "72f5db53",
   "metadata": {},
   "outputs": [
    {
     "name": "stdout",
     "output_type": "stream",
     "text": [
      "[0.01818181818181818, 0.022222222222222223, 0.025, 0.024390243902439025, 0.02631578947368421, 0.03333333333333333, 0.041666666666666664, 0.058823529411764705, 0.1111111111111111, -0.5, -0.03333333333333333]\n"
     ]
    }
   ],
   "source": [
    "A = [55,45,40,41,38,30,24,17,9,-2,-30]\n",
    "N = len(A)\n",
    "for i in range(N):\n",
    "    A[i] = 1/A[i]  # disebut sebagai in-place processing, lebih hemat memory\n",
    "print(A)"
   ]
  },
  {
   "cell_type": "code",
   "execution_count": 57,
   "id": "3ec9babb",
   "metadata": {},
   "outputs": [
    {
     "name": "stdout",
     "output_type": "stream",
     "text": [
      "[0.01818181818181818, 0.022222222222222223, 0.025, 0.024390243902439025, 0.02631578947368421, 0.03333333333333333, 0.041666666666666664, 0.058823529411764705, 0.1111111111111111, -0.5, -0.03333333333333333]\n"
     ]
    }
   ],
   "source": [
    "# Cara ketiga yang digunakan untuk mentransform data sesuai rekomendasi python\n",
    "A = [55,45,40,41,38,30,24,17,9,-2,-30]\n",
    "for i, a in enumerate(A): # perintah enumerate di python menghasilkan variabel \"index\" dari 'a'\n",
    "    A[i] = 1/a  # in-place processing\n",
    "print(A)"
   ]
  },
  {
   "cell_type": "code",
   "execution_count": 58,
   "id": "8359939e",
   "metadata": {},
   "outputs": [
    {
     "data": {
      "text/plain": [
       "['hi', 'hi', 'hi']"
      ]
     },
     "execution_count": 58,
     "metadata": {},
     "output_type": "execute_result"
    }
   ],
   "source": [
    "# List comprehension\n",
    "['hi' for i in range (3)]"
   ]
  },
  {
   "cell_type": "code",
   "execution_count": 59,
   "id": "505c4e84",
   "metadata": {},
   "outputs": [
    {
     "data": {
      "text/plain": [
       "[25, 36, 49, 64]"
      ]
     },
     "execution_count": 59,
     "metadata": {},
     "output_type": "execute_result"
    }
   ],
   "source": [
    "Angka = [5,6,7,8]\n",
    "[x**2 for x in Angka]"
   ]
  },
  {
   "cell_type": "code",
   "execution_count": 66,
   "id": "afe7865c",
   "metadata": {},
   "outputs": [
    {
     "name": "stdout",
     "output_type": "stream",
     "text": [
      "[0.01818181818181818, 0.022222222222222223, 0.025, 0.024390243902439025, 0.02631578947368421, 0.03333333333333333, 0.041666666666666664, 0.058823529411764705, 0.1111111111111111, -0.5, -0.03333333333333333]\n"
     ]
    }
   ],
   "source": [
    "A = [55,45,40,41,38,30,24,17,9,-2,-30]\n",
    "A = [1/x for x in A] # list comprehension secara umum lebih cepat dan sederhana\n",
    "print(A)"
   ]
  }
 ],
 "metadata": {
  "kernelspec": {
   "display_name": "Python 3 (ipykernel)",
   "language": "python",
   "name": "python3"
  },
  "language_info": {
   "codemirror_mode": {
    "name": "ipython",
    "version": 3
   },
   "file_extension": ".py",
   "mimetype": "text/x-python",
   "name": "python",
   "nbconvert_exporter": "python",
   "pygments_lexer": "ipython3",
   "version": "3.9.16"
  },
  "toc": {
   "base_numbering": 1,
   "nav_menu": {},
   "number_sections": true,
   "sideBar": true,
   "skip_h1_title": false,
   "title_cell": "Table of Contents",
   "title_sidebar": "Contents",
   "toc_cell": false,
   "toc_position": {},
   "toc_section_display": true,
   "toc_window_display": false
  }
 },
 "nbformat": 4,
 "nbformat_minor": 5
}
